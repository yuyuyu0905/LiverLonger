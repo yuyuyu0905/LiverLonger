{
 "cells": [
  {
   "cell_type": "code",
   "execution_count": 1,
   "metadata": {},
   "outputs": [],
   "source": [
    "import IPython.core.display as di\n",
    "import numpy as np\n",
    "import pandas as pd\n",
    "import matplotlib.pyplot as plt\n",
    "# Ignore code when downloaded as HTML\n",
    "#di.display_html('<script>jQuery(function() {if (jQuery(\"body.notebook_app\").length == 0) { jQuery(\".input_area\").toggle(); jQuery(\".prompt\").toggle();}});</script>', raw=True)\n",
    "# Read file\n",
    "df = pd.read_csv('Downloads/liver_data_inf560.csv',header = 0, na_values = 'NaN')"
   ]
  },
  {
   "cell_type": "markdown",
   "metadata": {},
   "source": [
    "dtypes: float64(60), int64(23), object(76)"
   ]
  },
  {
   "cell_type": "code",
   "execution_count": 2,
   "metadata": {},
   "outputs": [],
   "source": [
    "#Basic translation\n",
    "df = df.replace(\"Unknown\", np.nan) #Replace 'Unknown; with NaN for further processing\n",
    "df = df.replace(998, np.nan) #998 means Unknown\n",
    "df = df.replace(997, np.nan) #997 means N/A\n",
    "df = df.replace(996, np.nan) #996 means N/A not sure?"
   ]
  },
  {
   "cell_type": "code",
   "execution_count": 3,
   "metadata": {},
   "outputs": [],
   "source": [
    "#According to LIVER_FORMATC_LOOKUP\n",
    "column_name = 'FUNC_STAT_TRR'\n",
    "df.loc[df.FUNC_STAT_TRR == 1.0, column_name] = 10\n",
    "df.loc[df.FUNC_STAT_TRR == 2.0, column_name] = 5\n",
    "df.loc[df.FUNC_STAT_TRR == 3.0, column_name] = 1\n",
    "df.loc[df.FUNC_STAT_TRR == 2010, column_name] = 1\n",
    "df.loc[df.FUNC_STAT_TRR == 2020, column_name] = 2\n",
    "df.loc[df.FUNC_STAT_TRR == 2030, column_name] = 3\n",
    "df.loc[df.FUNC_STAT_TRR == 2040, column_name] = 4\n",
    "df.loc[df.FUNC_STAT_TRR == 2050, column_name] = 5\n",
    "df.loc[df.FUNC_STAT_TRR == 2060, column_name] = 6\n",
    "df.loc[df.FUNC_STAT_TRR == 2070, column_name] = 7\n",
    "df.loc[df.FUNC_STAT_TRR == 2080, column_name] = 8\n",
    "df.loc[df.FUNC_STAT_TRR == 2090, column_name] = 9\n",
    "df.loc[df.FUNC_STAT_TRR == 2100, column_name] = 10\n",
    "df.loc[df.FUNC_STAT_TRR == 4010, column_name] = 1\n",
    "df.loc[df.FUNC_STAT_TRR == 4020, column_name] = 2\n",
    "df.loc[df.FUNC_STAT_TRR == 4030, column_name] = 3\n",
    "df.loc[df.FUNC_STAT_TRR == 4040, column_name] = 4\n",
    "df.loc[df.FUNC_STAT_TRR == 4050, column_name] = 5\n",
    "df.loc[df.FUNC_STAT_TRR == 4060, column_name] = 6\n",
    "df.loc[df.FUNC_STAT_TRR == 4070, column_name] = 7\n",
    "df.loc[df.FUNC_STAT_TRR == 4080, column_name] = 8\n",
    "df.loc[df.FUNC_STAT_TRR == 4090, column_name] = 9\n",
    "df.loc[df.FUNC_STAT_TRR == 4100, column_name] = 10"
   ]
  },
  {
   "cell_type": "code",
   "execution_count": 4,
   "metadata": {},
   "outputs": [],
   "source": [
    "#numeralization -> We only use MELD, and we have age, so delete age_group\n",
    "#df['AGE_GROUP'] = df['AGE_GROUP'].replace('A',1)\n",
    "#df['AGE_GROUP'] = df['AGE_GROUP'].replace('P',0)\n",
    "#df[['AGE_GROUP']].head(5)\n",
    "df.drop(['AGE_GROUP'], axis = 1, inplace = True)"
   ]
  },
  {
   "cell_type": "code",
   "execution_count": null,
   "metadata": {},
   "outputs": [],
   "source": []
  },
  {
   "cell_type": "code",
   "execution_count": 5,
   "metadata": {},
   "outputs": [],
   "source": [
    "#numeralization\n",
    "df =  df.replace('M', 0) #'M' means male\n",
    "df =  df.replace('F', 1) #'F' means female"
   ]
  },
  {
   "cell_type": "code",
   "execution_count": 6,
   "metadata": {},
   "outputs": [],
   "source": [
    "#df[df.END_STAT].between(6101, 6199, inclusive=True)\n",
    "#df[['END_STAT']].query('6101 <= END_STAT <= 6199') #negative meld score\n",
    "#df[df['END_STAT']==6999] #Inactive means Unknown, cuz the patients records not updated\n",
    "#df[['END_STAT']].query('6010 <= END_STAT <= 6012') Don't know what status1 status2 mean..\n",
    "# def END_STAT_CALCULATOR(x):\n",
    "#     if x>=6101 and x<=6200:\n",
    "#         return 6200-x\n",
    "#     elif x>=6201 and x<=6299:\n",
    "#         return x-6200\n",
    "#     elif x==6999:\n",
    "#         return np.nan"
   ]
  },
  {
   "cell_type": "code",
   "execution_count": 7,
   "metadata": {},
   "outputs": [],
   "source": [
    "#df['END_STAT'] = df.END_STAT.apply(END_STAT_CALCULATOR)"
   ]
  },
  {
   "cell_type": "code",
   "execution_count": 8,
   "metadata": {},
   "outputs": [],
   "source": [
    "#one hot encoding\n",
    "pd.get_dummies(df['ABO'],prefix='BLOOD_TYPE')\n",
    "df = pd.concat([df, pd.get_dummies(df['ABO'],prefix='BLOOD_TYPE')], axis=1)\n",
    "df.drop(['ABO'], axis=1, inplace=True)\n",
    "#df[['BLOOD_TYPE_A','BLOOD_TYPE_A1','BLOOD_TYPE_A2','BLOOD_TYPE_B','BLOOD_TYPE_O','BLOOD_TYPE_AB','BLOOD_TYPE_A1B','BLOOD_TYPE_A2B']].head(5)"
   ]
  },
  {
   "cell_type": "code",
   "execution_count": 9,
   "metadata": {},
   "outputs": [],
   "source": [
    "#one hot encoding\n",
    "pd.get_dummies(df['ABO_DON'],prefix='DON_BLOOD_TYPE')\n",
    "df = pd.concat([df, pd.get_dummies(df['ABO_DON'],prefix='DON_BLOOD_TYPE')], axis=1)\n",
    "df.drop(['ABO_DON'], axis=1, inplace=True)\n",
    "#df[['DON_BLOOD_TYPE_A','DON_BLOOD_TYPE_A1','DON_BLOOD_TYPE_A2','DON_BLOOD_TYPE_B','DON_BLOOD_TYPE_O','DON_BLOOD_TYPE_AB','DON_BLOOD_TYPE_A1B','DON_BLOOD_TYPE_A2B']].head(5)"
   ]
  },
  {
   "cell_type": "code",
   "execution_count": 10,
   "metadata": {},
   "outputs": [],
   "source": [
    "#one hot encoding\n",
    "df['ETHCAT'] = df['ETHCAT'].replace(1,'Others')\n",
    "df['ETHCAT'] = df['ETHCAT'].replace(2,'Black')\n",
    "df['ETHCAT'] = df['ETHCAT'].replace(4,'Hispanic')\n",
    "df['ETHCAT'] = df['ETHCAT'].replace(5,'Asian')\n",
    "df['ETHCAT'] = df['ETHCAT'].replace(6,'Others')\n",
    "df['ETHCAT'] = df['ETHCAT'].replace(7,'Others')\n",
    "df['ETHCAT'] = df['ETHCAT'].replace(9,'Multiracial')\n",
    "pd.get_dummies(df['ETHCAT'],prefix='ETHCAT')\n",
    "df = pd.concat([df, pd.get_dummies(df['ETHCAT'],prefix='ETHCAT')], axis=1)\n",
    "df.drop(['ETHCAT'], axis=1, inplace=True)"
   ]
  },
  {
   "cell_type": "code",
   "execution_count": 11,
   "metadata": {},
   "outputs": [],
   "source": [
    "#one hot encoding\n",
    "df['ETHCAT_DON'] = df['ETHCAT_DON'].replace(1,'Others')\n",
    "df['ETHCAT_DON'] = df['ETHCAT_DON'].replace(2,'Black')\n",
    "df['ETHCAT_DON'] = df['ETHCAT_DON'].replace(4,'Hispanic')\n",
    "df['ETHCAT_DON'] = df['ETHCAT_DON'].replace(5,'Asian')\n",
    "df['ETHCAT_DON'] = df['ETHCAT_DON'].replace(6,'Others')\n",
    "df['ETHCAT_DON'] = df['ETHCAT_DON'].replace(7,'Others')\n",
    "df['ETHCAT_DON'] = df['ETHCAT_DON'].replace(9,'Multiracial')\n",
    "pd.get_dummies(df['ETHCAT_DON'],prefix='ETHCAT_DON')\n",
    "df = pd.concat([df, pd.get_dummies(df['ETHCAT_DON'],prefix='ETHCAT_DON')], axis=1)\n",
    "df.drop(['ETHCAT_DON'], axis=1, inplace=True)"
   ]
  },
  {
   "cell_type": "code",
   "execution_count": 12,
   "metadata": {},
   "outputs": [],
   "source": [
    "#numeralization\n",
    "df.loc[df['DON_TY'] == 'C','DON_TY'] = 0  \n",
    "df.loc[df['DON_TY'] == 'L','DON_TY'] = 1 "
   ]
  },
  {
   "cell_type": "code",
   "execution_count": 13,
   "metadata": {},
   "outputs": [],
   "source": [
    "#numeralization\n",
    "def replaceEXC_HCC(hcc):\n",
    "    if hcc == 'non-HCC':\n",
    "        hcc = 1\n",
    "    elif hcc == \"HCC\":\n",
    "        hcc = 0\n",
    "    elif hcc == \"HBL\":\n",
    "        hcc = 1\n",
    "    return hcc\n",
    "df['EXC_HCC'] = df.EXC_HCC.apply(replaceEXC_HCC)"
   ]
  },
  {
   "cell_type": "code",
   "execution_count": 14,
   "metadata": {},
   "outputs": [],
   "source": [
    "#numeralization\n",
    "df =  df.replace('N', 0) #'N' means No\n",
    "df =  df.replace('No', 0) #'No' means No\n",
    "df =  df.replace('Y', 1) #'Y' means Yes\n",
    "df =  df.replace('Yes', 1) #'Yes' means Yes"
   ]
  },
  {
   "cell_type": "code",
   "execution_count": 15,
   "metadata": {},
   "outputs": [],
   "source": [
    "#DATA_TRANSPLANT,DATA_WAITLIST, LIST_MELD, TX_MELD have all the same values for one column\n",
    "df.drop(['DATA_TRANSPLANT'],axis=1,inplace=True) \n",
    "df.drop(['DATA_WAITLIST'],axis=1,inplace=True) \n",
    "df.drop(['LIST_MELD'],axis=1,inplace=True) \n",
    "df.drop(['TX_MELD'],axis=1,inplace=True) "
   ]
  },
  {
   "cell_type": "code",
   "execution_count": 16,
   "metadata": {},
   "outputs": [],
   "source": [
    "#numeralization\n",
    "df =  df.replace(['PD', 'ND', 'I', 'C', 'U'], np.nan) \n",
    "df =  df.replace('P', 1)"
   ]
  },
  {
   "cell_type": "code",
   "execution_count": 17,
   "metadata": {},
   "outputs": [],
   "source": [
    "#numeralization\n",
    "df['TXLIV'] =  df['TXLIV'].replace('W', 1)\n",
    "df['TXLIV'] =  df['TXLIV'].replace('S', 0)"
   ]
  },
  {
   "cell_type": "code",
   "execution_count": 18,
   "metadata": {},
   "outputs": [],
   "source": [
    "#numeralization\n",
    "df['PX_STAT'] =  df['PX_STAT'].replace(['R', 'D'], 0)\n",
    "df['PX_STAT'] =  df['PX_STAT'].replace('A', 1)\n",
    "df['PX_STAT'] =  df['PX_STAT'].replace('L', np.nan)"
   ]
  },
  {
   "cell_type": "code",
   "execution_count": 19,
   "metadata": {},
   "outputs": [],
   "source": [
    "#Highly relevant -> Delete those using PELD\n",
    "#df.drop(['FINAL_MELD_OR_PELD'],axis=1,inplace=True)\n",
    "df = df[df['FINAL_MELD_OR_PELD'] != \"PELD\"]\n",
    "df.drop(['FINAL_MELD_OR_PELD'],axis=1,inplace=True)"
   ]
  },
  {
   "cell_type": "code",
   "execution_count": 20,
   "metadata": {},
   "outputs": [],
   "source": [
    "#No use\n",
    "df.drop(['ETHNICITY'],axis=1,inplace=True)"
   ]
  },
  {
   "cell_type": "code",
   "execution_count": 21,
   "metadata": {},
   "outputs": [],
   "source": [
    "#Already have distance, need no geo info\n",
    "df.drop(['HOME_STATE_DON'],axis=1,inplace=True) \n",
    "df.drop(['REGION'],axis=1,inplace=True) \n",
    "df.drop(['PERM_STATE'],axis=1,inplace=True) #axis=1 列操作， inplace=True 原数据中删除\n",
    "df.drop(['PERM_STATE_TRR'],axis=1,inplace=True)"
   ]
  },
  {
   "cell_type": "code",
   "execution_count": 22,
   "metadata": {},
   "outputs": [],
   "source": [
    "#Useless ID codes\n",
    "df.drop(['WL_ID_CODE'],axis=1,inplace=True)\n",
    "df.drop(['TRR_ID_CODE'],axis=1,inplace=True)\n",
    "df.drop(['DONOR_ID'],axis=1,inplace=True)\n",
    "df.drop(['CTR_CODE'],axis=1,inplace=True)\n",
    "df.drop(['OPO_CTR_CODE'],axis=1,inplace=True)\n",
    "df.drop(['LISTING_CTR_CODE'],axis=1,inplace=True)"
   ]
  },
  {
   "cell_type": "code",
   "execution_count": 23,
   "metadata": {},
   "outputs": [],
   "source": [
    "#For now\n",
    "df.drop(['DIAG'],axis = 1,inplace = True)"
   ]
  },
  {
   "cell_type": "code",
   "execution_count": 24,
   "metadata": {},
   "outputs": [],
   "source": [
    "#Too many missing values\n",
    "df.drop(['EBV_SEROSTATUS'],axis=1,inplace=True) #25.8%\n",
    "df.drop(['CMV_IGG'],axis=1,inplace=True) #20.9%\n",
    "df.drop(['CMV_IGM'],axis=1,inplace=True) #51.2%\n",
    "df.drop(['DEATH_CIRCUM_DON'],axis=1,inplace=True) #22.2%"
   ]
  },
  {
   "cell_type": "code",
   "execution_count": 25,
   "metadata": {},
   "outputs": [],
   "source": [
    "#Turn its type into int\n",
    "df= df[df['FINAL_DIALYSIS_PRIOR_WEEK']!=\"A\"]\n",
    "df['FINAL_DIALYSIS_PRIOR_WEEK'] = pd.to_numeric(df['FINAL_DIALYSIS_PRIOR_WEEK'])"
   ]
  },
  {
   "cell_type": "code",
   "execution_count": null,
   "metadata": {},
   "outputs": [],
   "source": []
  },
  {
   "cell_type": "markdown",
   "metadata": {},
   "source": [
    "## Drop highly correlated attributes"
   ]
  },
  {
   "cell_type": "code",
   "execution_count": 26,
   "metadata": {},
   "outputs": [],
   "source": [
    "corrnew = df.corr(method='pearson', min_periods=1)"
   ]
  },
  {
   "cell_type": "code",
   "execution_count": 27,
   "metadata": {
    "scrolled": false
   },
   "outputs": [],
   "source": [
    "# for x in range(len(corrnew)):\n",
    "#     for y in range(len(corrnew)):\n",
    "#         if x!=y and x<y:\n",
    "#             if corrnew.iloc[x,y] >= 0.8 or corrnew.iloc[x,y] <= -0.8:\n",
    "#                 print corrnew.columns[x],corrnew.columns[y]"
   ]
  },
  {
   "cell_type": "markdown",
   "metadata": {},
   "source": [
    "<b>END_BMI_CALC</b>: WGT_KG_CALC, BMI_CALC  \n",
    "<b>FINAL_INR</b>: INR_TX  \n",
    "<b>FINAL_MELD_PELD_LAB_SCORE</b>: MELD_PELD_LAB_SCORE  \n",
    "<b>GSTATUS</b>: PX_STAT  \n",
    "<b>WGT_KG_DON_CALC</b>: BMI_DON_CALC  \n",
    "<b>AGE_GROUP</b>: AGE, HGT_CM_CALC  \n",
    "Drop highly related attributes"
   ]
  },
  {
   "cell_type": "code",
   "execution_count": 28,
   "metadata": {},
   "outputs": [],
   "source": [
    "df.drop(['WGT_KG_CALC'],axis=1,inplace=True)\n",
    "df.drop(['BMI_CALC'],axis=1,inplace=True)\n",
    "df.drop(['INR_TX'],axis=1,inplace=True)\n",
    "df.drop(['MELD_PELD_LAB_SCORE'],axis=1,inplace=True)\n",
    "df.drop(['PX_STAT'],axis=1,inplace=True)\n",
    "df.drop(['BMI_DON_CALC'],axis=1,inplace=True)\n",
    "df.drop(['AGE'],axis=1,inplace=True)\n",
    "df.drop(['HGT_CM_CALC'],axis=1,inplace=True)"
   ]
  },
  {
   "cell_type": "code",
   "execution_count": 29,
   "metadata": {},
   "outputs": [],
   "source": [
    "df.drop(['TX_YEAR'],axis=1,inplace=True) #Assume tech doesn't change according to year\n",
    "df.drop(['LISTYR'],axis=1,inplace=True)"
   ]
  },
  {
   "cell_type": "code",
   "execution_count": 30,
   "metadata": {},
   "outputs": [],
   "source": [
    "df = df[df['GTIME']<=df['PTIME']]  "
   ]
  },
  {
   "cell_type": "code",
   "execution_count": 31,
   "metadata": {},
   "outputs": [],
   "source": [
    "df.drop(['LT_ONE_WEEK_DON'], axis = 1, inplace=True)"
   ]
  },
  {
   "cell_type": "markdown",
   "metadata": {},
   "source": [
    "## Labeling"
   ]
  },
  {
   "cell_type": "code",
   "execution_count": 32,
   "metadata": {
    "scrolled": true
   },
   "outputs": [
    {
     "name": "stderr",
     "output_type": "stream",
     "text": [
      "/Library/Python/2.7/site-packages/ipykernel_launcher.py:4: SettingWithCopyWarning: \n",
      "A value is trying to be set on a copy of a slice from a DataFrame.\n",
      "Try using .loc[row_indexer,col_indexer] = value instead\n",
      "\n",
      "See the caveats in the documentation: http://pandas.pydata.org/pandas-docs/stable/indexing.html#indexing-view-versus-copy\n",
      "  after removing the cwd from sys.path.\n"
     ]
    }
   ],
   "source": [
    "df.drop(['PSTATUS'],axis=1,inplace=True)\n",
    "df.drop(['PTIME'],axis=1,inplace=True)\n",
    "tmp = df[(df.GTIME >= 180) | (df.GSTATUS == 1) ]  #Day can be changed\n",
    "tmp[\"label\"]=tmp.apply(lambda x: x.GTIME<180, axis=1)\n",
    "tmp = tmp.drop(columns=[\"GTIME\", \"GSTATUS\"])"
   ]
  },
  {
   "cell_type": "code",
   "execution_count": 33,
   "metadata": {},
   "outputs": [],
   "source": [
    "from sklearn.preprocessing import Imputer\n",
    "impute=Imputer()\n",
    "result=impute.fit_transform(tmp)\n",
    "result=pd.DataFrame(result, columns=tmp.columns)\n",
    "#x=result.iloc[:, :-1]\n",
    "#y=result[\"label\"]"
   ]
  },
  {
   "cell_type": "code",
   "execution_count": null,
   "metadata": {},
   "outputs": [],
   "source": []
  },
  {
   "cell_type": "markdown",
   "metadata": {},
   "source": [
    "## Normalization"
   ]
  },
  {
   "cell_type": "code",
   "execution_count": 34,
   "metadata": {},
   "outputs": [],
   "source": [
    "normalized_df=(result-result.min())/(result.max()-result.min())\n",
    "#result"
   ]
  },
  {
   "cell_type": "code",
   "execution_count": 35,
   "metadata": {},
   "outputs": [],
   "source": [
    "#normalized_df"
   ]
  },
  {
   "cell_type": "markdown",
   "metadata": {},
   "source": [
    "## Current Status"
   ]
  },
  {
   "cell_type": "code",
   "execution_count": 36,
   "metadata": {},
   "outputs": [],
   "source": [
    "#normalized_df.describe().T['mean']"
   ]
  },
  {
   "cell_type": "code",
   "execution_count": 37,
   "metadata": {},
   "outputs": [
    {
     "name": "stdout",
     "output_type": "stream",
     "text": [
      "<class 'pandas.core.frame.DataFrame'>\n",
      "RangeIndex: 31221 entries, 0 to 31220\n",
      "Columns: 145 entries, NUM_PREV_TX to label\n",
      "dtypes: float64(145)\n",
      "memory usage: 34.5 MB\n"
     ]
    }
   ],
   "source": [
    "normalized_df.info()"
   ]
  },
  {
   "cell_type": "code",
   "execution_count": 38,
   "metadata": {},
   "outputs": [],
   "source": [
    "#normalized_df.to_csv(\"cleaned_liver.csv\")"
   ]
  },
  {
   "cell_type": "code",
   "execution_count": null,
   "metadata": {},
   "outputs": [],
   "source": []
  },
  {
   "cell_type": "markdown",
   "metadata": {},
   "source": [
    "## Baseline:LR"
   ]
  },
  {
   "cell_type": "code",
   "execution_count": 39,
   "metadata": {},
   "outputs": [],
   "source": [
    "x=normalized_df.iloc[:, :-1]\n",
    "y=normalized_df[\"label\"]"
   ]
  },
  {
   "cell_type": "code",
   "execution_count": null,
   "metadata": {},
   "outputs": [],
   "source": []
  },
  {
   "cell_type": "code",
   "execution_count": 40,
   "metadata": {
    "scrolled": false
   },
   "outputs": [
    {
     "name": "stderr",
     "output_type": "stream",
     "text": [
      "/Library/Python/2.7/site-packages/sklearn/metrics/classification.py:1135: UndefinedMetricWarning: Precision is ill-defined and being set to 0.0 in labels with no predicted samples.\n",
      "  'precision', 'predicted', average, warn_for)\n",
      "/Library/Python/2.7/site-packages/sklearn/utils/deprecation.py:122: FutureWarning: You are accessing a training score ('train_precision_macro'), which will not be available by default any more in 0.21. If you need training scores, please set return_train_score=True\n",
      "  warnings.warn(*warn_args, **warn_kwargs)\n",
      "/Library/Python/2.7/site-packages/sklearn/utils/deprecation.py:122: FutureWarning: You are accessing a training score ('train_recall_macro'), which will not be available by default any more in 0.21. If you need training scores, please set return_train_score=True\n",
      "  warnings.warn(*warn_args, **warn_kwargs)\n"
     ]
    },
    {
     "data": {
      "text/plain": [
       "{'fit_time': array([1.5089519 , 1.40683293, 1.15169406, 1.32378793, 1.4413662 ]),\n",
       " 'score_time': array([0.00773215, 0.01714706, 0.00922894, 0.009866  , 0.00799799]),\n",
       " 'test_precision_macro': array([0.77990494, 0.44643715, 0.94650008, 0.44642857, 0.94657161]),\n",
       " 'test_recall_macro': array([0.5014051 , 0.5       , 0.50074738, 0.5       , 0.5007485 ]),\n",
       " 'train_precision_macro': array([0.94648434, 0.82150008, 0.94646861, 0.77981768, 0.94646861]),\n",
       " 'train_recall_macro': array([0.50037383, 0.50053833, 0.50018692, 0.50035141, 0.50037369])}"
      ]
     },
     "execution_count": 40,
     "metadata": {},
     "output_type": "execute_result"
    }
   ],
   "source": [
    "from sklearn.linear_model import LogisticRegression\n",
    "from sklearn.model_selection import cross_validate\n",
    "from sklearn.metrics import recall_score\n",
    "s=['precision_macro', 'recall_macro']\n",
    "lr=LogisticRegression()\n",
    "scores = cross_validate(lr, x, y, scoring=s, cv=5)\n",
    "scores"
   ]
  },
  {
   "cell_type": "code",
   "execution_count": 41,
   "metadata": {},
   "outputs": [
    {
     "data": {
      "text/plain": [
       "0.7131684715794476"
      ]
     },
     "execution_count": 41,
     "metadata": {},
     "output_type": "execute_result"
    }
   ],
   "source": [
    "scores['test_precision_macro'].mean()"
   ]
  },
  {
   "cell_type": "code",
   "execution_count": 42,
   "metadata": {},
   "outputs": [
    {
     "data": {
      "text/plain": [
       "0.5005801970892065"
      ]
     },
     "execution_count": 42,
     "metadata": {},
     "output_type": "execute_result"
    }
   ],
   "source": [
    "scores['test_recall_macro'].mean()"
   ]
  },
  {
   "cell_type": "markdown",
   "metadata": {},
   "source": [
    "## Baseline: SVM"
   ]
  },
  {
   "cell_type": "code",
   "execution_count": 43,
   "metadata": {},
   "outputs": [],
   "source": [
    "# from sklearn.svm import SVC\n",
    "# s=['precision_macro', 'recall_macro']\n",
    "# clf = SVC()\n",
    "# scores = cross_validate(clf, x, y, scoring=s, cv=5)\n",
    "# scores"
   ]
  },
  {
   "cell_type": "code",
   "execution_count": 44,
   "metadata": {},
   "outputs": [
    {
     "data": {
      "text/html": [
       "<div>\n",
       "<style scoped>\n",
       "    .dataframe tbody tr th:only-of-type {\n",
       "        vertical-align: middle;\n",
       "    }\n",
       "\n",
       "    .dataframe tbody tr th {\n",
       "        vertical-align: top;\n",
       "    }\n",
       "\n",
       "    .dataframe thead th {\n",
       "        text-align: right;\n",
       "    }\n",
       "</style>\n",
       "<table border=\"1\" class=\"dataframe\">\n",
       "  <thead>\n",
       "    <tr style=\"text-align: right;\">\n",
       "      <th></th>\n",
       "      <th>NUM_PREV_TX</th>\n",
       "      <th>GENDER</th>\n",
       "      <th>EDUCATION</th>\n",
       "      <th>DIAB</th>\n",
       "      <th>REM_CD</th>\n",
       "      <th>DAYSWAIT_CHRON</th>\n",
       "      <th>END_STAT</th>\n",
       "      <th>EXC_HCC</th>\n",
       "      <th>EXC_CASE</th>\n",
       "      <th>END_BMI_CALC</th>\n",
       "      <th>...</th>\n",
       "      <th>ETHCAT_Black</th>\n",
       "      <th>ETHCAT_Hispanic</th>\n",
       "      <th>ETHCAT_Multiracial</th>\n",
       "      <th>ETHCAT_Others</th>\n",
       "      <th>ETHCAT_DON_Asian</th>\n",
       "      <th>ETHCAT_DON_Black</th>\n",
       "      <th>ETHCAT_DON_Hispanic</th>\n",
       "      <th>ETHCAT_DON_Multiracial</th>\n",
       "      <th>ETHCAT_DON_Others</th>\n",
       "      <th>label</th>\n",
       "    </tr>\n",
       "  </thead>\n",
       "  <tbody>\n",
       "    <tr>\n",
       "      <th>count</th>\n",
       "      <td>31221.000000</td>\n",
       "      <td>31221.000000</td>\n",
       "      <td>31221.000000</td>\n",
       "      <td>31221.000000</td>\n",
       "      <td>31221.000000</td>\n",
       "      <td>31221.000000</td>\n",
       "      <td>31221.000000</td>\n",
       "      <td>31221.000000</td>\n",
       "      <td>31221.000000</td>\n",
       "      <td>31221.000000</td>\n",
       "      <td>...</td>\n",
       "      <td>31221.000000</td>\n",
       "      <td>31221.000000</td>\n",
       "      <td>31221.000000</td>\n",
       "      <td>31221.000000</td>\n",
       "      <td>31221.000000</td>\n",
       "      <td>31221.000000</td>\n",
       "      <td>31221.000000</td>\n",
       "      <td>31221.000000</td>\n",
       "      <td>31221.000000</td>\n",
       "      <td>31221.000000</td>\n",
       "    </tr>\n",
       "    <tr>\n",
       "      <th>mean</th>\n",
       "      <td>0.008424</td>\n",
       "      <td>0.344448</td>\n",
       "      <td>0.538453</td>\n",
       "      <td>0.128387</td>\n",
       "      <td>0.088057</td>\n",
       "      <td>0.046146</td>\n",
       "      <td>0.203358</td>\n",
       "      <td>0.809231</td>\n",
       "      <td>0.304859</td>\n",
       "      <td>0.325668</td>\n",
       "      <td>...</td>\n",
       "      <td>0.103104</td>\n",
       "      <td>0.137952</td>\n",
       "      <td>0.006726</td>\n",
       "      <td>0.706992</td>\n",
       "      <td>0.022933</td>\n",
       "      <td>0.167355</td>\n",
       "      <td>0.134589</td>\n",
       "      <td>0.009673</td>\n",
       "      <td>0.665289</td>\n",
       "      <td>0.107107</td>\n",
       "    </tr>\n",
       "    <tr>\n",
       "      <th>std</th>\n",
       "      <td>0.035066</td>\n",
       "      <td>0.475195</td>\n",
       "      <td>0.191273</td>\n",
       "      <td>0.252930</td>\n",
       "      <td>0.143923</td>\n",
       "      <td>0.081580</td>\n",
       "      <td>0.056803</td>\n",
       "      <td>0.392914</td>\n",
       "      <td>0.460355</td>\n",
       "      <td>0.108382</td>\n",
       "      <td>...</td>\n",
       "      <td>0.304099</td>\n",
       "      <td>0.344855</td>\n",
       "      <td>0.081739</td>\n",
       "      <td>0.455149</td>\n",
       "      <td>0.149693</td>\n",
       "      <td>0.373299</td>\n",
       "      <td>0.341289</td>\n",
       "      <td>0.097876</td>\n",
       "      <td>0.471897</td>\n",
       "      <td>0.309255</td>\n",
       "    </tr>\n",
       "    <tr>\n",
       "      <th>min</th>\n",
       "      <td>0.000000</td>\n",
       "      <td>0.000000</td>\n",
       "      <td>0.000000</td>\n",
       "      <td>0.000000</td>\n",
       "      <td>0.000000</td>\n",
       "      <td>0.000000</td>\n",
       "      <td>0.000000</td>\n",
       "      <td>0.000000</td>\n",
       "      <td>0.000000</td>\n",
       "      <td>0.000000</td>\n",
       "      <td>...</td>\n",
       "      <td>0.000000</td>\n",
       "      <td>0.000000</td>\n",
       "      <td>0.000000</td>\n",
       "      <td>0.000000</td>\n",
       "      <td>0.000000</td>\n",
       "      <td>0.000000</td>\n",
       "      <td>0.000000</td>\n",
       "      <td>0.000000</td>\n",
       "      <td>0.000000</td>\n",
       "      <td>0.000000</td>\n",
       "    </tr>\n",
       "    <tr>\n",
       "      <th>25%</th>\n",
       "      <td>0.000000</td>\n",
       "      <td>0.000000</td>\n",
       "      <td>0.400000</td>\n",
       "      <td>0.000000</td>\n",
       "      <td>0.055556</td>\n",
       "      <td>0.003432</td>\n",
       "      <td>0.212336</td>\n",
       "      <td>1.000000</td>\n",
       "      <td>0.000000</td>\n",
       "      <td>0.248177</td>\n",
       "      <td>...</td>\n",
       "      <td>0.000000</td>\n",
       "      <td>0.000000</td>\n",
       "      <td>0.000000</td>\n",
       "      <td>0.000000</td>\n",
       "      <td>0.000000</td>\n",
       "      <td>0.000000</td>\n",
       "      <td>0.000000</td>\n",
       "      <td>0.000000</td>\n",
       "      <td>0.000000</td>\n",
       "      <td>0.000000</td>\n",
       "    </tr>\n",
       "    <tr>\n",
       "      <th>50%</th>\n",
       "      <td>0.000000</td>\n",
       "      <td>0.000000</td>\n",
       "      <td>0.538453</td>\n",
       "      <td>0.000000</td>\n",
       "      <td>0.055556</td>\n",
       "      <td>0.016015</td>\n",
       "      <td>0.216380</td>\n",
       "      <td>1.000000</td>\n",
       "      <td>0.000000</td>\n",
       "      <td>0.312779</td>\n",
       "      <td>...</td>\n",
       "      <td>0.000000</td>\n",
       "      <td>0.000000</td>\n",
       "      <td>0.000000</td>\n",
       "      <td>1.000000</td>\n",
       "      <td>0.000000</td>\n",
       "      <td>0.000000</td>\n",
       "      <td>0.000000</td>\n",
       "      <td>0.000000</td>\n",
       "      <td>1.000000</td>\n",
       "      <td>0.000000</td>\n",
       "    </tr>\n",
       "    <tr>\n",
       "      <th>75%</th>\n",
       "      <td>0.000000</td>\n",
       "      <td>1.000000</td>\n",
       "      <td>0.600000</td>\n",
       "      <td>0.000000</td>\n",
       "      <td>0.055556</td>\n",
       "      <td>0.052848</td>\n",
       "      <td>0.223458</td>\n",
       "      <td>1.000000</td>\n",
       "      <td>1.000000</td>\n",
       "      <td>0.391885</td>\n",
       "      <td>...</td>\n",
       "      <td>0.000000</td>\n",
       "      <td>0.000000</td>\n",
       "      <td>0.000000</td>\n",
       "      <td>1.000000</td>\n",
       "      <td>0.000000</td>\n",
       "      <td>0.000000</td>\n",
       "      <td>0.000000</td>\n",
       "      <td>0.000000</td>\n",
       "      <td>1.000000</td>\n",
       "      <td>0.000000</td>\n",
       "    </tr>\n",
       "    <tr>\n",
       "      <th>max</th>\n",
       "      <td>1.000000</td>\n",
       "      <td>1.000000</td>\n",
       "      <td>1.000000</td>\n",
       "      <td>1.000000</td>\n",
       "      <td>1.000000</td>\n",
       "      <td>1.000000</td>\n",
       "      <td>1.000000</td>\n",
       "      <td>1.000000</td>\n",
       "      <td>1.000000</td>\n",
       "      <td>1.000000</td>\n",
       "      <td>...</td>\n",
       "      <td>1.000000</td>\n",
       "      <td>1.000000</td>\n",
       "      <td>1.000000</td>\n",
       "      <td>1.000000</td>\n",
       "      <td>1.000000</td>\n",
       "      <td>1.000000</td>\n",
       "      <td>1.000000</td>\n",
       "      <td>1.000000</td>\n",
       "      <td>1.000000</td>\n",
       "      <td>1.000000</td>\n",
       "    </tr>\n",
       "  </tbody>\n",
       "</table>\n",
       "<p>8 rows × 145 columns</p>\n",
       "</div>"
      ],
      "text/plain": [
       "        NUM_PREV_TX        GENDER     EDUCATION          DIAB        REM_CD  \\\n",
       "count  31221.000000  31221.000000  31221.000000  31221.000000  31221.000000   \n",
       "mean       0.008424      0.344448      0.538453      0.128387      0.088057   \n",
       "std        0.035066      0.475195      0.191273      0.252930      0.143923   \n",
       "min        0.000000      0.000000      0.000000      0.000000      0.000000   \n",
       "25%        0.000000      0.000000      0.400000      0.000000      0.055556   \n",
       "50%        0.000000      0.000000      0.538453      0.000000      0.055556   \n",
       "75%        0.000000      1.000000      0.600000      0.000000      0.055556   \n",
       "max        1.000000      1.000000      1.000000      1.000000      1.000000   \n",
       "\n",
       "       DAYSWAIT_CHRON      END_STAT       EXC_HCC      EXC_CASE  END_BMI_CALC  \\\n",
       "count    31221.000000  31221.000000  31221.000000  31221.000000  31221.000000   \n",
       "mean         0.046146      0.203358      0.809231      0.304859      0.325668   \n",
       "std          0.081580      0.056803      0.392914      0.460355      0.108382   \n",
       "min          0.000000      0.000000      0.000000      0.000000      0.000000   \n",
       "25%          0.003432      0.212336      1.000000      0.000000      0.248177   \n",
       "50%          0.016015      0.216380      1.000000      0.000000      0.312779   \n",
       "75%          0.052848      0.223458      1.000000      1.000000      0.391885   \n",
       "max          1.000000      1.000000      1.000000      1.000000      1.000000   \n",
       "\n",
       "           ...       ETHCAT_Black  ETHCAT_Hispanic  ETHCAT_Multiracial  \\\n",
       "count      ...       31221.000000     31221.000000        31221.000000   \n",
       "mean       ...           0.103104         0.137952            0.006726   \n",
       "std        ...           0.304099         0.344855            0.081739   \n",
       "min        ...           0.000000         0.000000            0.000000   \n",
       "25%        ...           0.000000         0.000000            0.000000   \n",
       "50%        ...           0.000000         0.000000            0.000000   \n",
       "75%        ...           0.000000         0.000000            0.000000   \n",
       "max        ...           1.000000         1.000000            1.000000   \n",
       "\n",
       "       ETHCAT_Others  ETHCAT_DON_Asian  ETHCAT_DON_Black  ETHCAT_DON_Hispanic  \\\n",
       "count   31221.000000      31221.000000      31221.000000         31221.000000   \n",
       "mean        0.706992          0.022933          0.167355             0.134589   \n",
       "std         0.455149          0.149693          0.373299             0.341289   \n",
       "min         0.000000          0.000000          0.000000             0.000000   \n",
       "25%         0.000000          0.000000          0.000000             0.000000   \n",
       "50%         1.000000          0.000000          0.000000             0.000000   \n",
       "75%         1.000000          0.000000          0.000000             0.000000   \n",
       "max         1.000000          1.000000          1.000000             1.000000   \n",
       "\n",
       "       ETHCAT_DON_Multiracial  ETHCAT_DON_Others         label  \n",
       "count            31221.000000       31221.000000  31221.000000  \n",
       "mean                 0.009673           0.665289      0.107107  \n",
       "std                  0.097876           0.471897      0.309255  \n",
       "min                  0.000000           0.000000      0.000000  \n",
       "25%                  0.000000           0.000000      0.000000  \n",
       "50%                  0.000000           1.000000      0.000000  \n",
       "75%                  0.000000           1.000000      0.000000  \n",
       "max                  1.000000           1.000000      1.000000  \n",
       "\n",
       "[8 rows x 145 columns]"
      ]
     },
     "execution_count": 44,
     "metadata": {},
     "output_type": "execute_result"
    }
   ],
   "source": [
    "normalized_df.describe()"
   ]
  },
  {
   "cell_type": "markdown",
   "metadata": {},
   "source": [
    "## Clustering Model"
   ]
  },
  {
   "cell_type": "code",
   "execution_count": 45,
   "metadata": {},
   "outputs": [],
   "source": [
    "don_df = []\n",
    "for x in range(145):\n",
    "    if \"DON\" in normalized_df.iloc[:,x].name:\n",
    "        don_df.append(normalized_df.iloc[:,x].name)"
   ]
  },
  {
   "cell_type": "code",
   "execution_count": 46,
   "metadata": {},
   "outputs": [],
   "source": [
    "don_df = normalized_df[don_df]"
   ]
  },
  {
   "cell_type": "code",
   "execution_count": 47,
   "metadata": {},
   "outputs": [],
   "source": [
    "#don_df"
   ]
  },
  {
   "cell_type": "code",
   "execution_count": null,
   "metadata": {},
   "outputs": [],
   "source": []
  },
  {
   "cell_type": "code",
   "execution_count": 48,
   "metadata": {},
   "outputs": [],
   "source": [
    "rcp_df = []\n",
    "for x in range(145):\n",
    "    if \"DON\" not in normalized_df.iloc[:,x].name:\n",
    "        rcp_df.append(normalized_df.iloc[:,x].name)"
   ]
  },
  {
   "cell_type": "code",
   "execution_count": 49,
   "metadata": {},
   "outputs": [],
   "source": [
    "rcp_df = normalized_df[rcp_df]"
   ]
  },
  {
   "cell_type": "code",
   "execution_count": 50,
   "metadata": {},
   "outputs": [
    {
     "name": "stderr",
     "output_type": "stream",
     "text": [
      "/Library/Python/2.7/site-packages/ipykernel_launcher.py:1: SettingWithCopyWarning: \n",
      "A value is trying to be set on a copy of a slice from a DataFrame\n",
      "\n",
      "See the caveats in the documentation: http://pandas.pydata.org/pandas-docs/stable/indexing.html#indexing-view-versus-copy\n",
      "  \"\"\"Entry point for launching an IPython kernel.\n"
     ]
    }
   ],
   "source": [
    "rcp_df.drop(['label'],axis=1,inplace=True)"
   ]
  },
  {
   "cell_type": "code",
   "execution_count": 51,
   "metadata": {},
   "outputs": [],
   "source": [
    "from sklearn.model_selection import train_test_split\n"
   ]
  },
  {
   "cell_type": "code",
   "execution_count": 52,
   "metadata": {
    "scrolled": true
   },
   "outputs": [],
   "source": [
    "#don_df.to_csv(\"don_data.csv\")\n",
    "#rcp_df.to_csv(\"rcp_data.csv\")\n",
    "#don_df.info()"
   ]
  },
  {
   "cell_type": "code",
   "execution_count": 53,
   "metadata": {},
   "outputs": [],
   "source": [
    "from sklearn.decomposition import PCA\n",
    "pcanumber = 2\n",
    "dn_clusters = 8\n",
    "rn_clusters = 6"
   ]
  },
  {
   "cell_type": "code",
   "execution_count": 54,
   "metadata": {},
   "outputs": [],
   "source": [
    "pca = PCA(n_components=pcanumber, copy=True, whiten=False)  #设置属性\n",
    "newData=pca.fit_transform(don_df)  #fit\n",
    "# pp = 0\n",
    "# for n in pca.explained_variance_ratio_:\n",
    "#     pp+=n\n",
    "# print pp"
   ]
  },
  {
   "cell_type": "code",
   "execution_count": 55,
   "metadata": {},
   "outputs": [],
   "source": [
    "DON_train, DON_test, y_train, y_test = train_test_split(\n",
    "     newData, y, test_size=0.2, random_state=42)"
   ]
  },
  {
   "cell_type": "code",
   "execution_count": 56,
   "metadata": {
    "scrolled": true
   },
   "outputs": [],
   "source": [
    "#pca.explained_variance_ratio_   #查看方差占比"
   ]
  },
  {
   "cell_type": "code",
   "execution_count": 57,
   "metadata": {},
   "outputs": [],
   "source": [
    "#pca.explained_variance_  #查看方差"
   ]
  },
  {
   "cell_type": "code",
   "execution_count": 58,
   "metadata": {},
   "outputs": [],
   "source": [
    "import matplotlib.colors  \n",
    "cm = matplotlib.colors.ListedColormap(['royalblue', 'cyan',\n",
    "                                  'yellow', 'orange', 'red', 'green', 'blue', 'm'])  \n",
    "initp = np.array([[-0.6,-0.4],[0.5,-0.4],[-0.6,0.4],[-0.6,0.7],[-0.6,1.0],[0.5,0.4],[0.5,0.7],[0.5,1.0]])\n",
    "from sklearn.cluster import DBSCAN \n",
    "#model=KMeans(n_clusters=dn_clusters,init='k-means++')  #init = 'k-means++'\n",
    "model = DBSCAN(eps=0.08, min_samples=100)\n",
    "#y_pre=model.fit_predict(newData)  \n",
    "y_pre = model.fit_predict(newData)"
   ]
  },
  {
   "cell_type": "code",
   "execution_count": 59,
   "metadata": {},
   "outputs": [],
   "source": [
    "#pca3 = PCA(n_components=2, copy=True, whiten=False)  #设置属性\n",
    "#toshow=pca3.fit_transform(newData)\n",
    "#model.inertia_"
   ]
  },
  {
   "cell_type": "code",
   "execution_count": 60,
   "metadata": {},
   "outputs": [
    {
     "data": {
      "text/plain": [
       "(4, -1)"
      ]
     },
     "execution_count": 60,
     "metadata": {},
     "output_type": "execute_result"
    }
   ],
   "source": [
    "max(y_pre),min(y_pre)"
   ]
  },
  {
   "cell_type": "code",
   "execution_count": 61,
   "metadata": {},
   "outputs": [
    {
     "data": {
      "image/png": "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\n",
      "text/plain": [
       "<matplotlib.figure.Figure at 0x104d27690>"
      ]
     },
     "metadata": {},
     "output_type": "display_data"
    }
   ],
   "source": [
    "plt.scatter(newData[:,0],newData[:,1],c=y_pre,cmap=cm)  \n",
    "plt.title('DBSCAN for donators')  \n",
    "plt.grid()  \n",
    "plt.show()  "
   ]
  },
  {
   "cell_type": "code",
   "execution_count": null,
   "metadata": {},
   "outputs": [],
   "source": []
  },
  {
   "cell_type": "code",
   "execution_count": 62,
   "metadata": {},
   "outputs": [],
   "source": [
    "# from sklearn.cluster import FeatureAgglomeration\n",
    "# from sklearn.cluster import AgglomerativeClustering\n",
    "# #algo = FeatureAgglomeration()\n",
    "# agglo = AgglomerativeClustering(n_clusters=10)\n",
    "# y_pred =agglo.fit_predict(don_df)\n",
    "# print y_pred"
   ]
  },
  {
   "cell_type": "code",
   "execution_count": 63,
   "metadata": {},
   "outputs": [],
   "source": [
    "pca2 = PCA(n_components=pcanumber, copy=True, whiten=False)\n",
    "newData2=pca2.fit_transform(rcp_df)\n",
    "RCP_train, RCP_test, y2_train, y_test = train_test_split(\n",
    "     newData2, y, test_size=0.2, random_state=42)\n",
    "initp2 = np.array([[-0.7,-0.4],[-0.7,0.8],[0,-0.6],[0,1],[0.7,-0.4],[0.7,1]])\n",
    "model2=DBSCAN(eps=0.5, min_samples=100)#KMeans(n_clusters=rn_clusters,init='k-means++')  \n",
    "y_pre2=model2.fit_predict(newData2)  "
   ]
  },
  {
   "cell_type": "code",
   "execution_count": null,
   "metadata": {},
   "outputs": [],
   "source": []
  },
  {
   "cell_type": "code",
   "execution_count": 64,
   "metadata": {},
   "outputs": [],
   "source": [
    "#model2.inertia_"
   ]
  },
  {
   "cell_type": "code",
   "execution_count": 65,
   "metadata": {},
   "outputs": [
    {
     "data": {
      "image/png": "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\n",
      "text/plain": [
       "<matplotlib.figure.Figure at 0x10aef5910>"
      ]
     },
     "metadata": {},
     "output_type": "display_data"
    }
   ],
   "source": [
    "plt.scatter(newData2[:,0],newData2[:,1],c=y_pre2,cmap=cm)  \n",
    "plt.title(u'K-Means for recipients')  \n",
    "plt.grid()  \n",
    "plt.show()  "
   ]
  },
  {
   "cell_type": "code",
   "execution_count": 66,
   "metadata": {},
   "outputs": [
    {
     "name": "stdout",
     "output_type": "stream",
     "text": [
      "31221 31221 31221\n"
     ]
    }
   ],
   "source": [
    "print len(y_pre), len(y_pre2), len(normalized_df['label'])"
   ]
  },
  {
   "cell_type": "code",
   "execution_count": 67,
   "metadata": {},
   "outputs": [],
   "source": [
    "countdict = {}\n",
    "for k in range(len(y_pre)):\n",
    "    if (y_pre[k],y_pre2[k]) in countdict:\n",
    "        countdict[(y_pre[k],y_pre2[k])]+=1\n",
    "    else:\n",
    "        countdict[(y_pre[k],y_pre2[k])]=1"
   ]
  },
  {
   "cell_type": "code",
   "execution_count": 68,
   "metadata": {},
   "outputs": [],
   "source": [
    "#countdict"
   ]
  },
  {
   "cell_type": "code",
   "execution_count": 69,
   "metadata": {},
   "outputs": [],
   "source": [
    "resultdict = {}\n",
    "for k in range(len(y_pre)):\n",
    "    if (y_pre[k],y_pre2[k]) in resultdict:\n",
    "        resultdict[(y_pre[k],y_pre2[k])]+=normalized_df['label'][k]\n",
    "    else:\n",
    "        resultdict[(y_pre[k],y_pre2[k])]=1"
   ]
  },
  {
   "cell_type": "code",
   "execution_count": 70,
   "metadata": {},
   "outputs": [],
   "source": [
    "finaldict = {\n",
    "}"
   ]
  },
  {
   "cell_type": "code",
   "execution_count": 71,
   "metadata": {
    "scrolled": true
   },
   "outputs": [],
   "source": [
    "for k in resultdict:\n",
    "    finaldict[k] = 1-(resultdict[k]/float(countdict[k]))"
   ]
  },
  {
   "cell_type": "code",
   "execution_count": 72,
   "metadata": {
    "scrolled": false
   },
   "outputs": [],
   "source": [
    "#finaldict"
   ]
  },
  {
   "cell_type": "code",
   "execution_count": 73,
   "metadata": {},
   "outputs": [],
   "source": [
    "highp = {}\n",
    "for k in finaldict:\n",
    "    if k[0] in highp:\n",
    "        if finaldict[k] > highp[k[0]]:\n",
    "            highp[k[0]]=finaldict[k]\n",
    "    else:\n",
    "        highp[k[0]]=finaldict[k]"
   ]
  },
  {
   "cell_type": "code",
   "execution_count": 74,
   "metadata": {
    "scrolled": true
   },
   "outputs": [],
   "source": [
    "highcombinations = {}\n",
    "for k in finaldict:\n",
    "    if finaldict[k] == highp[k[0]]:\n",
    "        highcombinations[k] = highp[k[0]]"
   ]
  },
  {
   "cell_type": "code",
   "execution_count": 75,
   "metadata": {},
   "outputs": [
    {
     "data": {
      "text/plain": [
       "{(-1, 0): 0.8888888888888888,\n",
       " (0, 0): 0.8979591836734694,\n",
       " (0, 1): 0.8979591836734694,\n",
       " (1, 5): 0.911660777385159,\n",
       " (2, 2): 0.9021497405485545,\n",
       " (3, 3): 0.9081947011706716,\n",
       " (4, 0): 0.9230769230769231,\n",
       " (4, 5): 0.9230769230769231}"
      ]
     },
     "execution_count": 75,
     "metadata": {},
     "output_type": "execute_result"
    }
   ],
   "source": [
    "highcombinations"
   ]
  },
  {
   "cell_type": "code",
   "execution_count": 76,
   "metadata": {},
   "outputs": [
    {
     "data": {
      "text/plain": [
       "0.8928926043368246"
      ]
     },
     "execution_count": 76,
     "metadata": {},
     "output_type": "execute_result"
    }
   ],
   "source": [
    "1-normalized_df['label'].mean() #This is baseline, lower than this-> bad match, higher than this-> good match"
   ]
  },
  {
   "cell_type": "code",
   "execution_count": 77,
   "metadata": {},
   "outputs": [],
   "source": [
    "#np.var(normalized_df['label']) #var"
   ]
  },
  {
   "cell_type": "code",
   "execution_count": 78,
   "metadata": {},
   "outputs": [],
   "source": [
    "don_con = {}\n",
    "for k in countdict:\n",
    "    if k[0] in don_con:\n",
    "        don_con[k[0]]+=countdict[k]\n",
    "    else:\n",
    "        don_con[k[0]]=countdict[k]"
   ]
  },
  {
   "cell_type": "code",
   "execution_count": 79,
   "metadata": {},
   "outputs": [],
   "source": [
    "#don_con"
   ]
  },
  {
   "cell_type": "code",
   "execution_count": 80,
   "metadata": {},
   "outputs": [],
   "source": [
    "don_result={}\n",
    "for k in resultdict:\n",
    "    if k[0] in don_result:\n",
    "        don_result[k[0]]+=resultdict[k]\n",
    "    else:\n",
    "        don_result[k[0]]=resultdict[k]"
   ]
  },
  {
   "cell_type": "code",
   "execution_count": 81,
   "metadata": {},
   "outputs": [],
   "source": [
    "#don_result"
   ]
  },
  {
   "cell_type": "code",
   "execution_count": 82,
   "metadata": {},
   "outputs": [
    {
     "ename": "KeyError",
     "evalue": "5",
     "output_type": "error",
     "traceback": [
      "\u001b[0;31m---------------------------------------------------------------------------\u001b[0m",
      "\u001b[0;31mKeyError\u001b[0m                                  Traceback (most recent call last)",
      "\u001b[0;32m<ipython-input-82-9e8c87644db6>\u001b[0m in \u001b[0;36m<module>\u001b[0;34m()\u001b[0m\n\u001b[1;32m      1\u001b[0m \u001b[0mdon_final\u001b[0m \u001b[0;34m=\u001b[0m \u001b[0;34m{\u001b[0m\u001b[0;34m}\u001b[0m\u001b[0;34m\u001b[0m\u001b[0m\n\u001b[1;32m      2\u001b[0m \u001b[0;32mfor\u001b[0m \u001b[0mk\u001b[0m \u001b[0;32min\u001b[0m \u001b[0mrange\u001b[0m\u001b[0;34m(\u001b[0m\u001b[0mlen\u001b[0m\u001b[0;34m(\u001b[0m\u001b[0mdon_con\u001b[0m\u001b[0;34m)\u001b[0m\u001b[0;34m)\u001b[0m\u001b[0;34m:\u001b[0m\u001b[0;34m\u001b[0m\u001b[0m\n\u001b[0;32m----> 3\u001b[0;31m     \u001b[0mdon_final\u001b[0m\u001b[0;34m[\u001b[0m\u001b[0mk\u001b[0m\u001b[0;34m]\u001b[0m \u001b[0;34m=\u001b[0m \u001b[0;36m1\u001b[0m\u001b[0;34m-\u001b[0m\u001b[0mdon_result\u001b[0m\u001b[0;34m[\u001b[0m\u001b[0mk\u001b[0m\u001b[0;34m]\u001b[0m \u001b[0;34m/\u001b[0m \u001b[0mfloat\u001b[0m\u001b[0;34m(\u001b[0m\u001b[0mdon_con\u001b[0m\u001b[0;34m[\u001b[0m\u001b[0mk\u001b[0m\u001b[0;34m]\u001b[0m\u001b[0;34m)\u001b[0m\u001b[0;34m\u001b[0m\u001b[0m\n\u001b[0m",
      "\u001b[0;31mKeyError\u001b[0m: 5"
     ]
    }
   ],
   "source": [
    "don_final = {}\n",
    "for k in range(len(don_con)):\n",
    "    don_final[k] = 1-don_result[k] / float(don_con[k])"
   ]
  },
  {
   "cell_type": "code",
   "execution_count": null,
   "metadata": {},
   "outputs": [],
   "source": [
    "don_final"
   ]
  },
  {
   "cell_type": "code",
   "execution_count": null,
   "metadata": {},
   "outputs": [],
   "source": [
    "# catlist = [don_df,rcp_df]\n",
    "# catresult = pd.concat(catlist,axis=1)\n",
    "# catresult\n",
    "# This is for concat on axis = 1"
   ]
  },
  {
   "cell_type": "code",
   "execution_count": null,
   "metadata": {},
   "outputs": [],
   "source": [
    "# catlist2 = [don_df.loc[[1,2,3]],don_df.loc[[4,5]]]\n",
    "# catresult2 = pd.concat(catlist2)\n",
    "# catresult2\n",
    "# This is for concat on axis = 0"
   ]
  },
  {
   "cell_type": "code",
   "execution_count": null,
   "metadata": {},
   "outputs": [],
   "source": [
    "# keymap = {}\n",
    "# for k in range(len(y_pre)):\n",
    "#     if (y_pre[k],y_pre2[k]) in keymap:\n",
    "#         keymap[(y_pre[k],y_pre2[k])].append(k)\n",
    "#     else:\n",
    "#         keymap[(y_pre[k],y_pre2[k])]=[k]\n"
   ]
  },
  {
   "cell_type": "code",
   "execution_count": null,
   "metadata": {},
   "outputs": [],
   "source": []
  },
  {
   "cell_type": "code",
   "execution_count": null,
   "metadata": {},
   "outputs": [],
   "source": []
  },
  {
   "cell_type": "code",
   "execution_count": null,
   "metadata": {},
   "outputs": [],
   "source": [
    "# newx = {}\n",
    "# newy = {}\n",
    "# for k in keymap:\n",
    "#     concatlist = [don_df.loc[keymap[k]],rcp_df.loc[keymap[k]]]\n",
    "#     newy[k] = (y[keymap[k]])\n",
    "#     newx[k] = (pd.concat(concatlist,axis=1))"
   ]
  },
  {
   "cell_type": "code",
   "execution_count": null,
   "metadata": {},
   "outputs": [],
   "source": []
  },
  {
   "cell_type": "code",
   "execution_count": null,
   "metadata": {},
   "outputs": [],
   "source": [
    "#for testy in newx:\n",
    "#    print len(newx[testy])"
   ]
  },
  {
   "cell_type": "code",
   "execution_count": null,
   "metadata": {},
   "outputs": [],
   "source": []
  },
  {
   "cell_type": "code",
   "execution_count": null,
   "metadata": {},
   "outputs": [],
   "source": [
    "# groupscores = {}\n",
    "# ss=['precision_macro', 'recall_macro']\n",
    "# for k in newx:\n",
    "#     #lr=LogisticRegression()\n",
    "#     clf = SVC()\n",
    "#     groupscores[k] = (cross_validate(clf, newx[k], newy[k], scoring=ss, cv=5))"
   ]
  },
  {
   "cell_type": "code",
   "execution_count": null,
   "metadata": {},
   "outputs": [],
   "source": [
    "#groupscores"
   ]
  },
  {
   "cell_type": "code",
   "execution_count": null,
   "metadata": {},
   "outputs": [],
   "source": [
    "# prec_mean = []\n",
    "# for k in groupscores:\n",
    "#     prec_mean.append(groupscores[k]['test_precision_macro'].mean())\n",
    "# sumprec = 0\n",
    "# countprec = 0\n",
    "# for num in prec_mean:\n",
    "#     sumprec += num\n",
    "#     countprec += 1\n",
    "# print sumprec/float(countprec)"
   ]
  },
  {
   "cell_type": "code",
   "execution_count": null,
   "metadata": {
    "scrolled": true
   },
   "outputs": [],
   "source": [
    "# recall_mean = []\n",
    "# for k in groupscores:\n",
    "#     recall_mean.append(groupscores[k]['test_recall_macro'].mean())\n",
    "# sumprec = 0\n",
    "# countprec = 0\n",
    "# for num in recall_mean:\n",
    "#     sumprec += num\n",
    "#     countprec += 1\n",
    "# print sumprec/float(countprec)"
   ]
  },
  {
   "cell_type": "code",
   "execution_count": null,
   "metadata": {},
   "outputs": [],
   "source": [
    "highcombinations"
   ]
  },
  {
   "cell_type": "markdown",
   "metadata": {},
   "source": [
    "Before: 91.2%\n",
    "\n"
   ]
  },
  {
   "cell_type": "code",
   "execution_count": null,
   "metadata": {},
   "outputs": [],
   "source": [
    "highcount = 0\n",
    "for k in range(len(y_pre))[2::5]:\n",
    "    if (y_pre[k],y_pre2[k]) in highcombinations:\n",
    "        #print (y_pre[k],y_pre2[k])\n",
    "        highcount += 1\n",
    "highresult = 0\n",
    "for k in range(len(y_pre))[2::5]:\n",
    "    if (y_pre[k],y_pre2[k]) in highcombinations:\n",
    "        highresult += normalized_df['label'][k]\n",
    "finalhigh = 1- highresult/float(highcount)\n",
    "print finalhigh"
   ]
  },
  {
   "cell_type": "code",
   "execution_count": null,
   "metadata": {},
   "outputs": [],
   "source": [
    "lowcount = 0\n",
    "for k in range(len(y_pre))[2::5]:\n",
    "    if (y_pre[k],y_pre2[k]) not in highcombinations:\n",
    "        #print (y_pre[k],y_pre2[k])\n",
    "        lowcount += 1\n",
    "lowresult = 0\n",
    "for k in range(len(y_pre))[2::5]:\n",
    "    if (y_pre[k],y_pre2[k]) not in highcombinations:\n",
    "        lowresult += normalized_df['label'][k]\n",
    "finallow = 1- lowresult/float(lowcount)\n",
    "print finallow"
   ]
  },
  {
   "cell_type": "code",
   "execution_count": null,
   "metadata": {},
   "outputs": [],
   "source": [
    "regcount = 0\n",
    "for k in range(len(y_pre))[2::5]:\n",
    "    if (y_pre[k],y_pre2[k]): #not in highcombinations:\n",
    "        #print (y_pre[k],y_pre2[k])\n",
    "        regcount += 1\n",
    "regresult = 0\n",
    "for k in range(len(y_pre))[2::5]:\n",
    "    if (y_pre[k],y_pre2[k]): #not in highcombinations:\n",
    "        regresult += normalized_df['label'][k]\n",
    "finalreg = 1- regresult/float(regcount)\n",
    "print finalreg"
   ]
  },
  {
   "cell_type": "code",
   "execution_count": null,
   "metadata": {},
   "outputs": [],
   "source": [
    "failure=tmp[\"label\"].sum()\n",
    "success=len( tmp[\"label\"] ) -failure\n",
    "\n",
    "plt.figure(figsize=(6,9)) #调节图形大小\n",
    "labels = ['Failure','Not failure'] #定义标签\n",
    "sizes = [0.088, 0.912] #每块值\n",
    "colors = ['tab:orange','tab:blue'] #每块颜色定义\n",
    "explode = (0,0) #将某一块分割出来，值越大分割出的间隙越大\n",
    "patches,text1,text2 = plt.pie(sizes,\n",
    "                      explode=explode,\n",
    "                      labels=labels,\n",
    "                      colors=colors,\n",
    "                      autopct = '%3.2f%%', #数值保留固定小数位\n",
    "                      shadow = False, #无阴影设置\n",
    "                      startangle =90, #逆时针起始角度设置\n",
    "                      pctdistance =0.6) #数值距圆心半径倍数距离\n",
    "#patches饼图的返回值，texts1饼图外label的文本，texts2饼图内部的文本\n",
    "# x，y轴刻度设置一致，保证饼图为圆形\n",
    "plt.title(\"On 360th day\")\n",
    "plt.axis('equal')\n",
    "plt.show()"
   ]
  },
  {
   "attachments": {
    "image.png": {
     "image/png": "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"
    }
   },
   "cell_type": "markdown",
   "metadata": {},
   "source": [
    "##### Granularity\n",
    "Let's focus on granularity\n",
    "![image.png](attachment:image.png)\n",
    "### So ideally, we want around or more than 500 surgeries for each cluster-match!  \n",
    "> PCA, K-means, Hierarchical  \n",
    "> Can't have too many clusters then\n",
    ">   69000/1000 = 69, that means a*b with 6<=a<=8 and 6<=b<=8\n",
    "\n",
    "### Also, we want K not too small"
   ]
  },
  {
   "cell_type": "markdown",
   "metadata": {},
   "source": [
    "<b>Dimensions</b>: 10, 20, 30  \n",
    "<b>K-Donator</b>: 6 - 8  \n",
    "<b>K-Recipient</b>: 6 - 8  "
   ]
  },
  {
   "cell_type": "code",
   "execution_count": null,
   "metadata": {},
   "outputs": [],
   "source": []
  },
  {
   "cell_type": "markdown",
   "metadata": {},
   "source": [
    "## Encapsulation for Test!"
   ]
  },
  {
   "cell_type": "code",
   "execution_count": null,
   "metadata": {},
   "outputs": [],
   "source": [
    "def TestFunction(pca_number, don_clusters,rcp_clusters): \n",
    "    sum_finalhigh = 0\n",
    "    sum_bestmatch = 0\n",
    "    for x in range(10):\n",
    "        pcanumber = pca_number\n",
    "        dn_clusters = don_clusters\n",
    "        rn_clusters = rcp_clusters\n",
    "        pca = PCA(n_components=pcanumber, copy=True, whiten=False)  #设置属性\n",
    "        newData = pca.fit_transform(don_df)  #fit\n",
    "        DON_train, DON_test, y_train, y_test = train_test_split(\n",
    "             newData, y, test_size=0.2, random_state=42)\n",
    "        model = KMeans(n_clusters=dn_clusters,init='k-means++')  #init = 'k-means++'\n",
    "        y_pre = model.fit_predict(newData)  \n",
    "        \n",
    "        pca2 = PCA(n_components=pcanumber, copy=True, whiten=False)\n",
    "        newData2 = pca2.fit_transform(rcp_df)\n",
    "        RCP_train, RCP_test, y2_train, y_test = train_test_split(\n",
    "         newData2, y, test_size=0.2, random_state=42)\n",
    "        #initp2 = np.array([[-0.7,-0.4],[-0.7,0.8],[0,-0.6],[0,1],[0.7,-0.4],[0.7,1]])\n",
    "        model2 = KMeans(n_clusters=rn_clusters,init='k-means++')  \n",
    "        y_pre2 = model2.fit_predict(newData2) \n",
    "\n",
    "        countdict = {}\n",
    "        for k in range(len(y_pre)):\n",
    "            if (y_pre[k],y_pre2[k]) in countdict:\n",
    "                countdict[(y_pre[k],y_pre2[k])]+=1\n",
    "            else:\n",
    "                countdict[(y_pre[k],y_pre2[k])]=1\n",
    "        resultdict = {}\n",
    "        for k in range(len(y_pre)):\n",
    "            if (y_pre[k],y_pre2[k]) in resultdict:\n",
    "                resultdict[(y_pre[k],y_pre2[k])] += normalized_df['label'][k]\n",
    "            else:\n",
    "                resultdict[(y_pre[k],y_pre2[k])] = normalized_df['label'][k] \n",
    "        finaldict = {}\n",
    "        for k in resultdict:\n",
    "            finaldict[k] = 1-(resultdict[k]/float(countdict[k]))\n",
    "        highp = {}\n",
    "        for k in finaldict:\n",
    "            if k[0] in highp:\n",
    "                if finaldict[k] > highp[k[0]]:\n",
    "                    highp[k[0]]=finaldict[k]\n",
    "            else:\n",
    "                highp[k[0]]=finaldict[k]\n",
    "        highcombinations = {}\n",
    "        for k in finaldict:\n",
    "            if finaldict[k] == highp[k[0]]:\n",
    "                highcombinations[k] = highp[k[0]]\n",
    "        don_con = {}\n",
    "        for k in countdict:\n",
    "            if k[0] in don_con:\n",
    "                don_con[k[0]]+=countdict[k]\n",
    "            else:\n",
    "                don_con[k[0]]=countdict[k]\n",
    "        don_result={}\n",
    "        for k in resultdict:\n",
    "            if k[0] in don_result:\n",
    "                don_result[k[0]]+=resultdict[k]\n",
    "            else:\n",
    "                don_result[k[0]]=resultdict[k]\n",
    "        don_final = {}\n",
    "        for k in range(len(don_con)):\n",
    "            don_final[k] = 1-don_result[k] / float(don_con[k])\n",
    "        don_final\n",
    "        highcount = 0\n",
    "        highresult = 0\n",
    "        lowcount = 0\n",
    "        lowresult = 0\n",
    "        for k in range(len(y_pre)/5):\n",
    "            random_surgery = np.random.randint(0,len((y_pre)))\n",
    "            if (y_pre[random_surgery],y_pre2[random_surgery]) in highcombinations:\n",
    "                #print (y_pre[k],y_pre2[k])\n",
    "                highcount += 1\n",
    "                highresult += normalized_df['label'][random_surgery]\n",
    "            elif (y_pre[random_surgery],y_pre2[random_surgery]) not in highcombinations:\n",
    "                lowcount += 1\n",
    "                lowresult += normalized_df['label'][random_surgery]\n",
    "        finalhigh = 1- highresult/float(highcount)\n",
    "        finallow = 1- lowresult/float(lowcount)\n",
    "        sum_finalhigh += finalhigh\n",
    "        sum_bestmatch += highcombinations[max(highcombinations, key = highcombinations.get)]\n",
    "    print \"For Dimensions = \",pca_number,\"Donator Cluster# = \", don_clusters, \"Recipient Cluster# = \", rcp_clusters\n",
    "    print \"Not Failure Rate(NFR) for preferred match: \", sum_finalhigh/10.0\n",
    "    print \"Baseline: \",1-normalized_df['label'].mean() #This is baseline, lower than this-> bad match, higher than this-> good match\n",
    "    print \"NFR for best match: \",sum_bestmatch/10.0\n",
    "    print \"Number of match: \", len(resultdict)\n",
    "    print \"Min count for match: \",countdict[min(countdict, key=countdict.get)]"
   ]
  },
  {
   "cell_type": "code",
   "execution_count": null,
   "metadata": {},
   "outputs": [],
   "source": [
    "# for n_pca in range(10,40,10):\n",
    "#     for n_don in range(6,9):\n",
    "#         for n_rcp in range(6,9):\n",
    "#             TestFunction(n_pca, n_don, n_rcp)"
   ]
  },
  {
   "cell_type": "code",
   "execution_count": null,
   "metadata": {},
   "outputs": [],
   "source": [
    "n_pca = 10\n",
    "for n_don in range(6,9):\n",
    "    for n_rcp in range(6,9):\n",
    "        TestFunction(n_pca, n_don, n_rcp)"
   ]
  },
  {
   "cell_type": "code",
   "execution_count": null,
   "metadata": {},
   "outputs": [],
   "source": [
    "don_final"
   ]
  },
  {
   "cell_type": "code",
   "execution_count": null,
   "metadata": {},
   "outputs": [],
   "source": []
  },
  {
   "cell_type": "markdown",
   "metadata": {},
   "source": [
    "## Set Days to 720"
   ]
  }
