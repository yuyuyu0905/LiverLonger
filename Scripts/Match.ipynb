{
 "cells": [
  {
   "cell_type": "code",
   "execution_count": 1,
   "metadata": {},
   "outputs": [],
   "source": [
    "import IPython.core.display as di\n",
    "import numpy as np\n",
    "import pandas as pd\n",
    "import matplotlib.pyplot as plt\n",
    "# Ignore code when downloaded as HTML\n",
    "#di.display_html('<script>jQuery(function() {if (jQuery(\"body.notebook_app\").length == 0) { jQuery(\".input_area\").toggle(); jQuery(\".prompt\").toggle();}});</script>', raw=True)\n",
    "# Read file\n",
    "df = pd.read_csv('Downloads/liver_data_inf560.csv',header = 0, na_values = 'NaN')"
   ]
  },
  {
   "cell_type": "markdown",
   "metadata": {},
   "source": [
    "dtypes: float64(60), int64(23), object(76)"
   ]
  },
  {
   "cell_type": "code",
   "execution_count": 2,
   "metadata": {},
   "outputs": [],
   "source": [
    "#Basic translation\n",
    "df = df.replace(\"Unknown\", np.nan) #Replace 'Unknown; with NaN for further processing\n",
    "df = df.replace(998, np.nan) #998 means Unknown\n",
    "df = df.replace(997, np.nan) #997 means N/A\n",
    "df = df.replace(996, np.nan) #996 means N/A not sure?"
   ]
  },
  {
   "cell_type": "code",
   "execution_count": 3,
   "metadata": {},
   "outputs": [],
   "source": [
    "#According to LIVER_FORMATC_LOOKUP\n",
    "column_name = 'FUNC_STAT_TRR'\n",
    "df.loc[df.FUNC_STAT_TRR == 1.0, column_name] = 10\n",
    "df.loc[df.FUNC_STAT_TRR == 2.0, column_name] = 5\n",
    "df.loc[df.FUNC_STAT_TRR == 3.0, column_name] = 1\n",
    "df.loc[df.FUNC_STAT_TRR == 2010, column_name] = 1\n",
    "df.loc[df.FUNC_STAT_TRR == 2020, column_name] = 2\n",
    "df.loc[df.FUNC_STAT_TRR == 2030, column_name] = 3\n",
    "df.loc[df.FUNC_STAT_TRR == 2040, column_name] = 4\n",
    "df.loc[df.FUNC_STAT_TRR == 2050, column_name] = 5\n",
    "df.loc[df.FUNC_STAT_TRR == 2060, column_name] = 6\n",
    "df.loc[df.FUNC_STAT_TRR == 2070, column_name] = 7\n",
    "df.loc[df.FUNC_STAT_TRR == 2080, column_name] = 8\n",
    "df.loc[df.FUNC_STAT_TRR == 2090, column_name] = 9\n",
    "df.loc[df.FUNC_STAT_TRR == 2100, column_name] = 10\n",
    "df.loc[df.FUNC_STAT_TRR == 4010, column_name] = 1\n",
    "df.loc[df.FUNC_STAT_TRR == 4020, column_name] = 2\n",
    "df.loc[df.FUNC_STAT_TRR == 4030, column_name] = 3\n",
    "df.loc[df.FUNC_STAT_TRR == 4040, column_name] = 4\n",
    "df.loc[df.FUNC_STAT_TRR == 4050, column_name] = 5\n",
    "df.loc[df.FUNC_STAT_TRR == 4060, column_name] = 6\n",
    "df.loc[df.FUNC_STAT_TRR == 4070, column_name] = 7\n",
    "df.loc[df.FUNC_STAT_TRR == 4080, column_name] = 8\n",
    "df.loc[df.FUNC_STAT_TRR == 4090, column_name] = 9\n",
    "df.loc[df.FUNC_STAT_TRR == 4100, column_name] = 10"
   ]
  },
  {
   "cell_type": "code",
   "execution_count": 4,
   "metadata": {},
   "outputs": [],
   "source": [
    "#numeralization -> We only use MELD, and we have age, so delete age_group\n",
    "#df['AGE_GROUP'] = df['AGE_GROUP'].replace('A',1)\n",
    "#df['AGE_GROUP'] = df['AGE_GROUP'].replace('P',0)\n",
    "#df[['AGE_GROUP']].head(5)\n",
    "df.drop(['AGE_GROUP'], axis = 1, inplace = True)"
   ]
  },
  {
   "cell_type": "code",
   "execution_count": null,
   "metadata": {},
   "outputs": [],
   "source": []
  },
  {
   "cell_type": "code",
   "execution_count": 5,
   "metadata": {},
   "outputs": [],
   "source": [
    "#numeralization\n",
    "df =  df.replace('M', 0) #'M' means male\n",
    "df =  df.replace('F', 1) #'F' means female"
   ]
  },
  {
   "cell_type": "code",
   "execution_count": 6,
   "metadata": {},
   "outputs": [],
   "source": [
    "#df[df.END_STAT].between(6101, 6199, inclusive=True)\n",
    "#df[['END_STAT']].query('6101 <= END_STAT <= 6199') #negative meld score\n",
    "#df[df['END_STAT']==6999] #Inactive means Unknown, cuz the patients records not updated\n",
    "#df[['END_STAT']].query('6010 <= END_STAT <= 6012') Don't know what status1 status2 mean..\n",
    "# def END_STAT_CALCULATOR(x):\n",
    "#     if x>=6101 and x<=6200:\n",
    "#         return 6200-x\n",
    "#     elif x>=6201 and x<=6299:\n",
    "#         return x-6200\n",
    "#     elif x==6999:\n",
    "#         return np.nan"
   ]
  },
  {
   "cell_type": "code",
   "execution_count": 7,
   "metadata": {},
   "outputs": [],
   "source": [
    "#df['END_STAT'] = df.END_STAT.apply(END_STAT_CALCULATOR)"
   ]
  },
  {
   "cell_type": "code",
   "execution_count": 8,
   "metadata": {},
   "outputs": [],
   "source": [
    "#one hot encoding\n",
    "pd.get_dummies(df['ABO'],prefix='BLOOD_TYPE')\n",
    "df = pd.concat([df, pd.get_dummies(df['ABO'],prefix='BLOOD_TYPE')], axis=1)\n",
    "df.drop(['ABO'], axis=1, inplace=True)\n",
    "#df[['BLOOD_TYPE_A','BLOOD_TYPE_A1','BLOOD_TYPE_A2','BLOOD_TYPE_B','BLOOD_TYPE_O','BLOOD_TYPE_AB','BLOOD_TYPE_A1B','BLOOD_TYPE_A2B']].head(5)"
   ]
  },
  {
   "cell_type": "code",
   "execution_count": 9,
   "metadata": {},
   "outputs": [],
   "source": [
    "#one hot encoding\n",
    "pd.get_dummies(df['ABO_DON'],prefix='DON_BLOOD_TYPE')\n",
    "df = pd.concat([df, pd.get_dummies(df['ABO_DON'],prefix='DON_BLOOD_TYPE')], axis=1)\n",
    "df.drop(['ABO_DON'], axis=1, inplace=True)\n",
    "#df[['DON_BLOOD_TYPE_A','DON_BLOOD_TYPE_A1','DON_BLOOD_TYPE_A2','DON_BLOOD_TYPE_B','DON_BLOOD_TYPE_O','DON_BLOOD_TYPE_AB','DON_BLOOD_TYPE_A1B','DON_BLOOD_TYPE_A2B']].head(5)"
   ]
  },
  {
   "cell_type": "code",
   "execution_count": 10,
   "metadata": {},
   "outputs": [],
   "source": [
    "#one hot encoding\n",
    "df['ETHCAT'] = df['ETHCAT'].replace(1,'Others')\n",
    "df['ETHCAT'] = df['ETHCAT'].replace(2,'Black')\n",
    "df['ETHCAT'] = df['ETHCAT'].replace(4,'Hispanic')\n",
    "df['ETHCAT'] = df['ETHCAT'].replace(5,'Asian')\n",
    "df['ETHCAT'] = df['ETHCAT'].replace(6,'Others')\n",
    "df['ETHCAT'] = df['ETHCAT'].replace(7,'Others')\n",
    "df['ETHCAT'] = df['ETHCAT'].replace(9,'Multiracial')\n",
    "pd.get_dummies(df['ETHCAT'],prefix='ETHCAT')\n",
    "df = pd.concat([df, pd.get_dummies(df['ETHCAT'],prefix='ETHCAT')], axis=1)\n",
    "df.drop(['ETHCAT'], axis=1, inplace=True)"
   ]
  },
  {
   "cell_type": "code",
   "execution_count": 11,
   "metadata": {},
   "outputs": [],
   "source": [
    "#one hot encoding\n",
    "df['ETHCAT_DON'] = df['ETHCAT_DON'].replace(1,'Others')\n",
    "df['ETHCAT_DON'] = df['ETHCAT_DON'].replace(2,'Black')\n",
    "df['ETHCAT_DON'] = df['ETHCAT_DON'].replace(4,'Hispanic')\n",
    "df['ETHCAT_DON'] = df['ETHCAT_DON'].replace(5,'Asian')\n",
    "df['ETHCAT_DON'] = df['ETHCAT_DON'].replace(6,'Others')\n",
    "df['ETHCAT_DON'] = df['ETHCAT_DON'].replace(7,'Others')\n",
    "df['ETHCAT_DON'] = df['ETHCAT_DON'].replace(9,'Multiracial')\n",
    "pd.get_dummies(df['ETHCAT_DON'],prefix='ETHCAT_DON')\n",
    "df = pd.concat([df, pd.get_dummies(df['ETHCAT_DON'],prefix='ETHCAT_DON')], axis=1)\n",
    "df.drop(['ETHCAT_DON'], axis=1, inplace=True)"
   ]
  },
  {
   "cell_type": "code",
   "execution_count": 12,
   "metadata": {},
   "outputs": [],
   "source": [
    "#numeralization\n",
    "df.loc[df['DON_TY'] == 'C','DON_TY'] = 0  \n",
    "df.loc[df['DON_TY'] == 'L','DON_TY'] = 1 "
   ]
  },
  {
   "cell_type": "code",
   "execution_count": 13,
   "metadata": {},
   "outputs": [],
   "source": [
    "#numeralization\n",
    "def replaceEXC_HCC(hcc):\n",
    "    if hcc == 'non-HCC':\n",
    "        hcc = 1\n",
    "    elif hcc == \"HCC\":\n",
    "        hcc = 0\n",
    "    elif hcc == \"HBL\":\n",
    "        hcc = 1\n",
    "    return hcc\n",
    "df['EXC_HCC'] = df.EXC_HCC.apply(replaceEXC_HCC)"
   ]
  },
  {
   "cell_type": "code",
   "execution_count": 14,
   "metadata": {},
   "outputs": [],
   "source": [
    "#numeralization\n",
    "df =  df.replace('N', 0) #'N' means No\n",
    "df =  df.replace('No', 0) #'No' means No\n",
    "df =  df.replace('Y', 1) #'Y' means Yes\n",
    "df =  df.replace('Yes', 1) #'Yes' means Yes"
   ]
  },
  {
   "cell_type": "code",
   "execution_count": 15,
   "metadata": {},
   "outputs": [],
   "source": [
    "#DATA_TRANSPLANT,DATA_WAITLIST, LIST_MELD, TX_MELD have all the same values for one column\n",
    "df.drop(['DATA_TRANSPLANT'],axis=1,inplace=True) \n",
    "df.drop(['DATA_WAITLIST'],axis=1,inplace=True) \n",
    "df.drop(['LIST_MELD'],axis=1,inplace=True) \n",
    "df.drop(['TX_MELD'],axis=1,inplace=True) "
   ]
  },
  {
   "cell_type": "code",
   "execution_count": 16,
   "metadata": {},
   "outputs": [],
   "source": [
    "#numeralization\n",
    "df =  df.replace(['PD', 'ND', 'I', 'C', 'U'], np.nan) \n",
    "df =  df.replace('P', 1)"
   ]
  },
  {
   "cell_type": "code",
   "execution_count": 17,
   "metadata": {},
   "outputs": [],
   "source": [
    "#numeralization\n",
    "df['TXLIV'] =  df['TXLIV'].replace('W', 1)\n",
    "df['TXLIV'] =  df['TXLIV'].replace('S', 0)"
   ]
  },
  {
   "cell_type": "code",
   "execution_count": 18,
   "metadata": {},
   "outputs": [],
   "source": [
    "#numeralization\n",
    "df['PX_STAT'] =  df['PX_STAT'].replace(['R', 'D'], 0)\n",
    "df['PX_STAT'] =  df['PX_STAT'].replace('A', 1)\n",
    "df['PX_STAT'] =  df['PX_STAT'].replace('L', np.nan)"
   ]
  },
  {
   "cell_type": "code",
   "execution_count": 19,
   "metadata": {},
   "outputs": [],
   "source": [
    "#Highly relevant -> Delete those using PELD\n",
    "#df.drop(['FINAL_MELD_OR_PELD'],axis=1,inplace=True)\n",
    "df = df[df['FINAL_MELD_OR_PELD'] != \"PELD\"]\n",
    "df.drop(['FINAL_MELD_OR_PELD'],axis=1,inplace=True)"
   ]
  },
  {
   "cell_type": "code",
   "execution_count": 20,
   "metadata": {},
   "outputs": [],
   "source": [
    "#No use\n",
    "df.drop(['ETHNICITY'],axis=1,inplace=True)"
   ]
  },
  {
   "cell_type": "code",
   "execution_count": 21,
   "metadata": {},
   "outputs": [],
   "source": [
    "#Already have distance, need no geo info\n",
    "df.drop(['HOME_STATE_DON'],axis=1,inplace=True) \n",
    "#df.drop(['REGION'],axis=1,inplace=True) \n",
    "df.drop(['PERM_STATE'],axis=1,inplace=True) #axis=1 列操作， inplace=True 原数据中删除\n",
    "df.drop(['PERM_STATE_TRR'],axis=1,inplace=True)"
   ]
  },
  {
   "cell_type": "code",
   "execution_count": 22,
   "metadata": {},
   "outputs": [],
   "source": [
    "#Useless ID codes\n",
    "df.drop(['WL_ID_CODE'],axis=1,inplace=True)\n",
    "df.drop(['TRR_ID_CODE'],axis=1,inplace=True)\n",
    "df.drop(['DONOR_ID'],axis=1,inplace=True)\n",
    "df.drop(['CTR_CODE'],axis=1,inplace=True)\n",
    "df.drop(['OPO_CTR_CODE'],axis=1,inplace=True)\n",
    "df.drop(['LISTING_CTR_CODE'],axis=1,inplace=True)"
   ]
  },
  {
   "cell_type": "code",
   "execution_count": 23,
   "metadata": {},
   "outputs": [],
   "source": [
    "#For now\n",
    "df.drop(['DIAG'],axis = 1,inplace = True)"
   ]
  },
  {
   "cell_type": "code",
   "execution_count": 24,
   "metadata": {},
   "outputs": [],
   "source": [
    "#Too many missing values\n",
    "df.drop(['EBV_SEROSTATUS'],axis=1,inplace=True) #25.8%\n",
    "df.drop(['CMV_IGG'],axis=1,inplace=True) #20.9%\n",
    "df.drop(['CMV_IGM'],axis=1,inplace=True) #51.2%\n",
    "df.drop(['DEATH_CIRCUM_DON'],axis=1,inplace=True) #22.2%"
   ]
  },
  {
   "cell_type": "code",
   "execution_count": 25,
   "metadata": {},
   "outputs": [],
   "source": [
    "#Turn its type into int\n",
    "df= df[df['FINAL_DIALYSIS_PRIOR_WEEK']!=\"A\"]\n",
    "df['FINAL_DIALYSIS_PRIOR_WEEK'] = pd.to_numeric(df['FINAL_DIALYSIS_PRIOR_WEEK'])"
   ]
  },
  {
   "cell_type": "code",
   "execution_count": null,
   "metadata": {},
   "outputs": [],
   "source": []
  },
  {
   "cell_type": "markdown",
   "metadata": {},
   "source": [
    "## Drop highly correlated attributes"
   ]
  },
  {
   "cell_type": "code",
   "execution_count": 26,
   "metadata": {},
   "outputs": [],
   "source": [
    "corrnew = df.corr(method='pearson', min_periods=1)"
   ]
  },
  {
   "cell_type": "code",
   "execution_count": 27,
   "metadata": {
    "scrolled": false
   },
   "outputs": [],
   "source": [
    "# for x in range(len(corrnew)):\n",
    "#     for y in range(len(corrnew)):\n",
    "#         if x!=y and x<y:\n",
    "#             if corrnew.iloc[x,y] >= 0.8 or corrnew.iloc[x,y] <= -0.8:\n",
    "#                 print corrnew.columns[x],corrnew.columns[y]"
   ]
  },
  {
   "cell_type": "markdown",
   "metadata": {},
   "source": [
    "<b>END_BMI_CALC</b>: WGT_KG_CALC, BMI_CALC  \n",
    "<b>FINAL_INR</b>: INR_TX  \n",
    "<b>FINAL_MELD_PELD_LAB_SCORE</b>: MELD_PELD_LAB_SCORE  \n",
    "<b>GSTATUS</b>: PX_STAT  \n",
    "<b>WGT_KG_DON_CALC</b>: BMI_DON_CALC  \n",
    "<b>AGE_GROUP</b>: AGE, HGT_CM_CALC  \n",
    "Drop highly related attributes"
   ]
  },
  {
   "cell_type": "code",
   "execution_count": 28,
   "metadata": {},
   "outputs": [],
   "source": [
    "df.drop(['WGT_KG_CALC'],axis=1,inplace=True)\n",
    "df.drop(['BMI_CALC'],axis=1,inplace=True)\n",
    "df.drop(['INR_TX'],axis=1,inplace=True)\n",
    "df.drop(['MELD_PELD_LAB_SCORE'],axis=1,inplace=True)\n",
    "df.drop(['PX_STAT'],axis=1,inplace=True)\n",
    "df.drop(['BMI_DON_CALC'],axis=1,inplace=True)\n",
    "df.drop(['AGE'],axis=1,inplace=True)\n",
    "df.drop(['HGT_CM_CALC'],axis=1,inplace=True)"
   ]
  },
  {
   "cell_type": "code",
   "execution_count": 29,
   "metadata": {},
   "outputs": [],
   "source": [
    "df.drop(['TX_YEAR'],axis=1,inplace=True) #Assume tech doesn't change according to year\n",
    "df.drop(['LISTYR'],axis=1,inplace=True)"
   ]
  },
  {
   "cell_type": "code",
   "execution_count": 30,
   "metadata": {},
   "outputs": [],
   "source": [
    "df = df[df['GTIME']<=df['PTIME']]  "
   ]
  },
  {
   "cell_type": "code",
   "execution_count": 31,
   "metadata": {},
   "outputs": [],
   "source": [
    "df.drop(['LT_ONE_WEEK_DON'], axis = 1, inplace=True)"
   ]
  },
  {
   "cell_type": "markdown",
   "metadata": {},
   "source": [
    "## Labeling"
   ]
  },
  {
   "cell_type": "code",
   "execution_count": 32,
   "metadata": {
    "scrolled": true
   },
   "outputs": [
    {
     "name": "stderr",
     "output_type": "stream",
     "text": [
      "/Library/Python/2.7/site-packages/ipykernel_launcher.py:4: SettingWithCopyWarning: \n",
      "A value is trying to be set on a copy of a slice from a DataFrame.\n",
      "Try using .loc[row_indexer,col_indexer] = value instead\n",
      "\n",
      "See the caveats in the documentation: http://pandas.pydata.org/pandas-docs/stable/indexing.html#indexing-view-versus-copy\n",
      "  after removing the cwd from sys.path.\n"
     ]
    }
   ],
   "source": [
    "df.drop(['PSTATUS'],axis=1,inplace=True)\n",
    "df.drop(['PTIME'],axis=1,inplace=True)\n",
    "tmp = df[(df.GTIME >= 360) | (df.GSTATUS == 1) ] \n",
    "tmp[\"label\"]=tmp.apply(lambda x: x.GTIME<360, axis=1)\n",
    "tmp = tmp.drop(columns=[\"GTIME\", \"GSTATUS\"])"
   ]
  },
  {
   "cell_type": "markdown",
   "metadata": {},
   "source": [
    "## Region Analysis\n",
    "### Successful Rate"
   ]
  },
  {
   "cell_type": "code",
   "execution_count": 33,
   "metadata": {},
   "outputs": [],
   "source": [
    "succ_rate = []\n",
    "for ppp in range(1,12):\n",
    "    if len(tmp.loc[tmp.REGION==ppp]) == 0:\n",
    "        succ_rate.append(0)\n",
    "        print \"REGION #\", ppp, \"is empty\"\n",
    "        break\n",
    "    ssr = (len(tmp.loc[tmp.REGION==ppp])*1.0 - tmp.loc[tmp.REGION==ppp].label.sum() )/ len(tmp.loc[tmp.REGION==ppp])*1.0\n",
    "    succ_rate.append(ssr)"
   ]
  },
  {
   "cell_type": "code",
   "execution_count": 34,
   "metadata": {
    "scrolled": false
   },
   "outputs": [
    {
     "data": {
      "text/plain": [
       "[0.8241106719367589,\n",
       " 0.8083560399636693,\n",
       " 0.8205240174672489,\n",
       " 0.8172715894868585,\n",
       " 0.8186058564394921,\n",
       " 0.7967581047381546,\n",
       " 0.8355945730247406,\n",
       " 0.7988260405549626,\n",
       " 0.8097014925373134,\n",
       " 0.8167625308134757,\n",
       " 0.8215094339622642]"
      ]
     },
     "execution_count": 34,
     "metadata": {},
     "output_type": "execute_result"
    }
   ],
   "source": [
    "succ_rate"
   ]
  },
  {
   "cell_type": "code",
   "execution_count": null,
   "metadata": {},
   "outputs": [],
   "source": []
  },
  {
   "cell_type": "code",
   "execution_count": 35,
   "metadata": {},
   "outputs": [
    {
     "data": {
      "text/plain": [
       "<matplotlib.figure.Figure at 0x11397d310>"
      ]
     },
     "metadata": {},
     "output_type": "display_data"
    },
    {
     "data": {
      "image/png": "[encoded data removed]",
      "text/plain": [
       "<matplotlib.figure.Figure at 0x11397d050>"
      ]
     },
     "metadata": {},
     "output_type": "display_data"
    }
   ],
   "source": [
    "tmp[['REGION','label']]\n",
    "#failure=tmp[\"REGION\"= 4][\"label\"]\n",
    "#success=len( tmp[\"label\"] ) -failure\n",
    "succ = [x- 0.75 for x in succ_rate]\n",
    "x = np.arange(1,12)\n",
    "plt.figure(figsize=(19,6)) #调节图形大小\n",
    "fig, ax = plt.subplots()\n",
    "labels = [\"Reg%i\" %s for s in np.arange(1,12)] #定义标签\n",
    "index = np.arange(1,12)\n",
    "#colors = ['tab:orange','tab:blue'] #每块颜色定义\n",
    "colors = plt.cm.Spectral(np.linspace(0, 1, len(index)))\n",
    "opacity = 0.7\n",
    "rects1 = plt.bar(index, succ,alpha=opacity, width = 0.85, color=colors,label=labels)   \n",
    "plt.xticks(x, labels)\n",
    "plt.title(\"Different regions and results on Stage 2\")\n",
    "#plt.axis('equal')\n",
    "plt.show()"
   ]
  },
  {
   "cell_type": "markdown",
   "metadata": {},
   "source": [
    "### Wait Time"
   ]
  },
  {
   "cell_type": "code",
   "execution_count": 36,
   "metadata": {},
   "outputs": [],
   "source": [
    "min_time = []\n",
    "max_time = []\n",
    "avg_time = []\n",
    "for pppp in range(1,12):\n",
    "    mintime = df.loc[df.REGION==pppp].DAYSWAIT_CHRON.min()\n",
    "    maxtime = df.loc[df.REGION==pppp].DAYSWAIT_CHRON.max()\n",
    "    avgtime = df.loc[df.REGION==pppp].DAYSWAIT_CHRON.sum()/len(df.loc[df.REGION==pppp].DAYSWAIT_CHRON)\n",
    "    #print time_for_region\n",
    "    #min_time = min(time_for_region)\n",
    "    min_time.append(mintime)\n",
    "    max_time.append(maxtime)\n",
    "    avg_time.append(avgtime)\n",
    "    #max_time = max(time_for_region)\n",
    "    #avg_time = reduce(lambda x, y: x + y, time_for_region) / len(time_for_region)\n",
    "    #wait_time.append([min_time, max_time, avg_time])"
   ]
  },
  {
   "cell_type": "code",
   "execution_count": 37,
   "metadata": {
    "scrolled": true
   },
   "outputs": [
    {
     "data": {
      "text/plain": [
       "Text(0.5,1,u'Wait time for different regions')"
      ]
     },
     "execution_count": 37,
     "metadata": {},
     "output_type": "execute_result"
    },
    {
     "data": {
      "image/png": "[encoded data removed]",
      "text/plain": [
       "<matplotlib.figure.Figure at 0x10f498150>"
      ]
     },
     "metadata": {},
     "output_type": "display_data"
    }
   ],
   "source": [
    "x = np.arange(1,12)\n",
    "rects2 = plt.bar(index, avg_time,alpha=opacity, width = 0.85, color=colors,label=labels)   \n",
    "plt.xticks(x, labels)\n",
    "plt.title(\"Wait time for different regions\")\n"
   ]
  },
  {
   "cell_type": "code",
   "execution_count": 38,
   "metadata": {},
   "outputs": [
    {
     "data": {
      "text/plain": [
       "[3.0, 3.0, 3.0, 3.0, 3.0, 3.0, 3.0, 3.0, 3.0, 3.0, 3.0]"
      ]
     },
     "execution_count": 38,
     "metadata": {},
     "output_type": "execute_result"
    }
   ],
   "source": [
    "min_time"
   ]
  },
  {
   "cell_type": "code",
   "execution_count": 39,
   "metadata": {},
   "outputs": [
    {
     "data": {
      "text/plain": [
       "[3427.0,\n",
       " 3823.0,\n",
       " 3926.0,\n",
       " 4394.0,\n",
       " 4374.0,\n",
       " 3607.0,\n",
       " 4326.0,\n",
       " 3979.0,\n",
       " 3000.0,\n",
       " 3913.0,\n",
       " 3615.0]"
      ]
     },
     "execution_count": 39,
     "metadata": {},
     "output_type": "execute_result"
    }
   ],
   "source": [
    "max_time"
   ]
  },
  {
   "cell_type": "code",
   "execution_count": 40,
   "metadata": {},
   "outputs": [
    {
     "data": {
      "text/plain": [
       "[214.1449864498645,\n",
       " 208.432324506095,\n",
       " 209.6778013969025,\n",
       " 206.01364799545067,\n",
       " 211.5932910244787,\n",
       " 215.54807692307693,\n",
       " 211.20769014875106,\n",
       " 202.46937296121783,\n",
       " 193.35187969924812,\n",
       " 202.21083995459705,\n",
       " 207.1911146161935]"
      ]
     },
     "execution_count": 40,
     "metadata": {},
     "output_type": "execute_result"
    }
   ],
   "source": [
    "avg_time"
   ]
  },
  {
   "cell_type": "code",
   "execution_count": null,
   "metadata": {},
   "outputs": [],
   "source": []
  },
  {
   "cell_type": "code",
   "execution_count": 41,
   "metadata": {},
   "outputs": [],
   "source": [
    "from sklearn.preprocessing import Imputer\n",
    "impute=Imputer()\n",
    "result=impute.fit_transform(tmp)\n",
    "result=pd.DataFrame(result, columns=tmp.columns)\n",
    "#x=result.iloc[:, :-1]\n",
    "#y=result[\"label\"]"
   ]
  },
  {
   "cell_type": "code",
   "execution_count": null,
   "metadata": {},
   "outputs": [],
   "source": []
  },
  {
   "cell_type": "code",
   "execution_count": null,
   "metadata": {},
   "outputs": [],
   "source": []
  },
  {
   "cell_type": "markdown",
   "metadata": {},
   "source": [
    "## Normalization"
   ]
  },
  {
   "cell_type": "code",
   "execution_count": 42,
   "metadata": {},
   "outputs": [],
   "source": [
    "normalized_df=(result-result.min())/(result.max()-result.min())\n",
    "#result"
   ]
  },
  {
   "cell_type": "code",
   "execution_count": 43,
   "metadata": {},
   "outputs": [],
   "source": [
    "#normalized_df"
   ]
  },
  {
   "cell_type": "markdown",
   "metadata": {},
   "source": [
    "## Current Status"
   ]
  },
  {
   "cell_type": "code",
   "execution_count": 44,
   "metadata": {},
   "outputs": [],
   "source": [
    "#normalized_df.describe().T['mean']"
   ]
  },
  {
   "cell_type": "code",
   "execution_count": 45,
   "metadata": {},
   "outputs": [
    {
     "name": "stdout",
     "output_type": "stream",
     "text": [
      "<class 'pandas.core.frame.DataFrame'>\n",
      "RangeIndex: 27293 entries, 0 to 27292\n",
      "Columns: 146 entries, NUM_PREV_TX to label\n",
      "dtypes: float64(146)\n",
      "memory usage: 30.4 MB\n"
     ]
    }
   ],
   "source": [
    "normalized_df.info()"
   ]
  },
  {
   "cell_type": "code",
   "execution_count": 46,
   "metadata": {},
   "outputs": [],
   "source": [
    "#normalized_df.to_csv(\"cleaned_liver.csv\")"
   ]
  },
  {
   "cell_type": "code",
   "execution_count": null,
   "metadata": {},
   "outputs": [],
   "source": []
  },
  {
   "cell_type": "markdown",
   "metadata": {},
   "source": [
    "## Baseline:LR"
   ]
  },
  {
   "cell_type": "code",
   "execution_count": 47,
   "metadata": {},
   "outputs": [],
   "source": [
    "x=normalized_df.iloc[:, :-1]\n",
    "y=normalized_df[\"label\"]"
   ]
  },
  {
   "cell_type": "code",
   "execution_count": null,
   "metadata": {},
   "outputs": [],
   "source": []
  },
  {
   "cell_type": "code",
   "execution_count": 48,
   "metadata": {
    "scrolled": false
   },
   "outputs": [
    {
     "name": "stderr",
     "output_type": "stream",
     "text": [
      "/Library/Python/2.7/site-packages/sklearn/utils/deprecation.py:122: FutureWarning: You are accessing a training score ('train_precision_macro'), which will not be available by default any more in 0.21. If you need training scores, please set return_train_score=True\n",
      "  warnings.warn(*warn_args, **warn_kwargs)\n",
      "/Library/Python/2.7/site-packages/sklearn/utils/deprecation.py:122: FutureWarning: You are accessing a training score ('train_recall_macro'), which will not be available by default any more in 0.21. If you need training scores, please set return_train_score=True\n",
      "  warnings.warn(*warn_args, **warn_kwargs)\n"
     ]
    },
    {
     "data": {
      "text/plain": [
       "{'fit_time': array([1.08505082, 1.46753001, 1.28354907, 1.15445995, 1.15879583]),\n",
       " 'score_time': array([0.00839305, 0.01347399, 0.00884795, 0.00611091, 0.00701308]),\n",
       " 'test_precision_macro': array([0.63084608, 0.70859919, 0.90848296, 0.74187439, 0.90869087]),\n",
       " 'test_recall_macro': array([0.50143934, 0.50127573, 0.5005    , 0.50088787, 0.5015015 ]),\n",
       " 'train_precision_macro': array([0.80863468, 0.80147309, 0.7244074 , 0.76156748, 0.75852653]),\n",
       " 'train_recall_macro': array([0.50141627, 0.50129124, 0.50130413, 0.5013602 , 0.5007909 ])}"
      ]
     },
     "execution_count": 48,
     "metadata": {},
     "output_type": "execute_result"
    }
   ],
   "source": [
    "from sklearn.linear_model import LogisticRegression\n",
    "from sklearn.model_selection import cross_validate\n",
    "from sklearn.metrics import recall_score\n",
    "s=['precision_macro', 'recall_macro']\n",
    "lr=LogisticRegression()\n",
    "scores = cross_validate(lr, x, y, scoring=s, cv=5)\n",
    "scores"
   ]
  },
  {
   "cell_type": "code",
   "execution_count": 49,
   "metadata": {},
   "outputs": [
    {
     "data": {
      "text/plain": [
       "0.7796986975232211"
      ]
     },
     "execution_count": 49,
     "metadata": {},
     "output_type": "execute_result"
    }
   ],
   "source": [
    "scores['test_precision_macro'].mean()"
   ]
  },
  {
   "cell_type": "code",
   "execution_count": 50,
   "metadata": {},
   "outputs": [
    {
     "data": {
      "text/plain": [
       "0.5011208878759899"
      ]
     },
     "execution_count": 50,
     "metadata": {},
     "output_type": "execute_result"
    }
   ],
   "source": [
    "scores['test_recall_macro'].mean()"
   ]
  },
  {
   "cell_type": "markdown",
   "metadata": {},
   "source": [
    "## Baseline: SVM"
   ]
  },
  {
   "cell_type": "code",
   "execution_count": 51,
   "metadata": {},
   "outputs": [],
   "source": [
    "# from sklearn.svm import SVC\n",
    "# s=['precision_macro', 'recall_macro']\n",
    "# clf = SVC()\n",
    "# scores = cross_validate(clf, x, y, scoring=s, cv=5)\n",
    "# scores"
   ]
  },
  {
   "cell_type": "code",
   "execution_count": 52,
   "metadata": {},
   "outputs": [
    {
     "name": "stdout",
     "output_type": "stream",
     "text": [
      "<class 'pandas.core.frame.DataFrame'>\n",
      "RangeIndex: 27293 entries, 0 to 27292\n",
      "Columns: 146 entries, NUM_PREV_TX to label\n",
      "dtypes: float64(146)\n",
      "memory usage: 30.4 MB\n"
     ]
    }
   ],
   "source": [
    "normalized_df.info()"
   ]
  },
  {
   "cell_type": "markdown",
   "metadata": {},
   "source": [
    "## Clustering Model"
   ]
  },
  {
   "cell_type": "code",
   "execution_count": 53,
   "metadata": {},
   "outputs": [],
   "source": [
    "don_df = []\n",
    "for x in range(145):\n",
    "    if \"DON\" in normalized_df.iloc[:,x].name:\n",
    "        don_df.append(normalized_df.iloc[:,x].name)"
   ]
  },
  {
   "cell_type": "code",
   "execution_count": 54,
   "metadata": {},
   "outputs": [],
   "source": [
    "don_df = normalized_df[don_df]"
   ]
  },
  {
   "cell_type": "code",
   "execution_count": 55,
   "metadata": {},
   "outputs": [],
   "source": [
    "#don_df"
   ]
  },
  {
   "cell_type": "code",
   "execution_count": null,
   "metadata": {},
   "outputs": [],
   "source": []
  },
  {
   "cell_type": "code",
   "execution_count": 56,
   "metadata": {},
   "outputs": [],
   "source": [
    "rcp_df = []\n",
    "for x in range(145):\n",
    "    if \"DON\" not in normalized_df.iloc[:,x].name:\n",
    "        rcp_df.append(normalized_df.iloc[:,x].name)"
   ]
  },
  {
   "cell_type": "code",
   "execution_count": 57,
   "metadata": {},
   "outputs": [],
   "source": [
    "rcp_df = normalized_df[rcp_df]"
   ]
  },
  {
   "cell_type": "code",
   "execution_count": 58,
   "metadata": {
    "scrolled": true
   },
   "outputs": [
    {
     "ename": "ValueError",
     "evalue": "labels ['label'] not contained in axis",
     "output_type": "error",
     "traceback": [
      "\u001b[0;31m---------------------------------------------------------------------------\u001b[0m",
      "\u001b[0;31mValueError\u001b[0m                                Traceback (most recent call last)",
      "\u001b[0;32m<ipython-input-58-56d6a257ce1a>\u001b[0m in \u001b[0;36m<module>\u001b[0;34m()\u001b[0m\n\u001b[0;32m----> 1\u001b[0;31m \u001b[0mrcp_df\u001b[0m\u001b[0;34m.\u001b[0m\u001b[0mdrop\u001b[0m\u001b[0;34m(\u001b[0m\u001b[0;34m[\u001b[0m\u001b[0;34m'label'\u001b[0m\u001b[0;34m]\u001b[0m\u001b[0;34m,\u001b[0m\u001b[0maxis\u001b[0m\u001b[0;34m=\u001b[0m\u001b[0;36m1\u001b[0m\u001b[0;34m,\u001b[0m\u001b[0minplace\u001b[0m\u001b[0;34m=\u001b[0m\u001b[0mTrue\u001b[0m\u001b[0;34m)\u001b[0m\u001b[0;34m\u001b[0m\u001b[0m\n\u001b[0m",
      "\u001b[0;32m/Library/Python/2.7/site-packages/pandas/core/generic.pyc\u001b[0m in \u001b[0;36mdrop\u001b[0;34m(self, labels, axis, index, columns, level, inplace, errors)\u001b[0m\n\u001b[1;32m   2528\u001b[0m         \u001b[0;32mfor\u001b[0m \u001b[0maxis\u001b[0m\u001b[0;34m,\u001b[0m \u001b[0mlabels\u001b[0m \u001b[0;32min\u001b[0m \u001b[0maxes\u001b[0m\u001b[0;34m.\u001b[0m\u001b[0mitems\u001b[0m\u001b[0;34m(\u001b[0m\u001b[0;34m)\u001b[0m\u001b[0;34m:\u001b[0m\u001b[0;34m\u001b[0m\u001b[0m\n\u001b[1;32m   2529\u001b[0m             \u001b[0;32mif\u001b[0m \u001b[0mlabels\u001b[0m \u001b[0;32mis\u001b[0m \u001b[0;32mnot\u001b[0m \u001b[0mNone\u001b[0m\u001b[0;34m:\u001b[0m\u001b[0;34m\u001b[0m\u001b[0m\n\u001b[0;32m-> 2530\u001b[0;31m                 \u001b[0mobj\u001b[0m \u001b[0;34m=\u001b[0m \u001b[0mobj\u001b[0m\u001b[0;34m.\u001b[0m\u001b[0m_drop_axis\u001b[0m\u001b[0;34m(\u001b[0m\u001b[0mlabels\u001b[0m\u001b[0;34m,\u001b[0m \u001b[0maxis\u001b[0m\u001b[0;34m,\u001b[0m \u001b[0mlevel\u001b[0m\u001b[0;34m=\u001b[0m\u001b[0mlevel\u001b[0m\u001b[0;34m,\u001b[0m \u001b[0merrors\u001b[0m\u001b[0;34m=\u001b[0m\u001b[0merrors\u001b[0m\u001b[0;34m)\u001b[0m\u001b[0;34m\u001b[0m\u001b[0m\n\u001b[0m\u001b[1;32m   2531\u001b[0m \u001b[0;34m\u001b[0m\u001b[0m\n\u001b[1;32m   2532\u001b[0m         \u001b[0;32mif\u001b[0m \u001b[0minplace\u001b[0m\u001b[0;34m:\u001b[0m\u001b[0;34m\u001b[0m\u001b[0m\n",
      "\u001b[0;32m/Library/Python/2.7/site-packages/pandas/core/generic.pyc\u001b[0m in \u001b[0;36m_drop_axis\u001b[0;34m(self, labels, axis, level, errors)\u001b[0m\n\u001b[1;32m   2560\u001b[0m                 \u001b[0mnew_axis\u001b[0m \u001b[0;34m=\u001b[0m \u001b[0maxis\u001b[0m\u001b[0;34m.\u001b[0m\u001b[0mdrop\u001b[0m\u001b[0;34m(\u001b[0m\u001b[0mlabels\u001b[0m\u001b[0;34m,\u001b[0m \u001b[0mlevel\u001b[0m\u001b[0;34m=\u001b[0m\u001b[0mlevel\u001b[0m\u001b[0;34m,\u001b[0m \u001b[0merrors\u001b[0m\u001b[0;34m=\u001b[0m\u001b[0merrors\u001b[0m\u001b[0;34m)\u001b[0m\u001b[0;34m\u001b[0m\u001b[0m\n\u001b[1;32m   2561\u001b[0m             \u001b[0;32melse\u001b[0m\u001b[0;34m:\u001b[0m\u001b[0;34m\u001b[0m\u001b[0m\n\u001b[0;32m-> 2562\u001b[0;31m                 \u001b[0mnew_axis\u001b[0m \u001b[0;34m=\u001b[0m \u001b[0maxis\u001b[0m\u001b[0;34m.\u001b[0m\u001b[0mdrop\u001b[0m\u001b[0;34m(\u001b[0m\u001b[0mlabels\u001b[0m\u001b[0;34m,\u001b[0m \u001b[0merrors\u001b[0m\u001b[0;34m=\u001b[0m\u001b[0merrors\u001b[0m\u001b[0;34m)\u001b[0m\u001b[0;34m\u001b[0m\u001b[0m\n\u001b[0m\u001b[1;32m   2563\u001b[0m             \u001b[0mdropped\u001b[0m \u001b[0;34m=\u001b[0m \u001b[0mself\u001b[0m\u001b[0;34m.\u001b[0m\u001b[0mreindex\u001b[0m\u001b[0;34m(\u001b[0m\u001b[0;34m**\u001b[0m\u001b[0;34m{\u001b[0m\u001b[0maxis_name\u001b[0m\u001b[0;34m:\u001b[0m \u001b[0mnew_axis\u001b[0m\u001b[0;34m}\u001b[0m\u001b[0;34m)\u001b[0m\u001b[0;34m\u001b[0m\u001b[0m\n\u001b[1;32m   2564\u001b[0m             \u001b[0;32mtry\u001b[0m\u001b[0;34m:\u001b[0m\u001b[0;34m\u001b[0m\u001b[0m\n",
      "\u001b[0;32m/Library/Python/2.7/site-packages/pandas/core/indexes/base.pyc\u001b[0m in \u001b[0;36mdrop\u001b[0;34m(self, labels, errors)\u001b[0m\n\u001b[1;32m   3742\u001b[0m             \u001b[0;32mif\u001b[0m \u001b[0merrors\u001b[0m \u001b[0;34m!=\u001b[0m \u001b[0;34m'ignore'\u001b[0m\u001b[0;34m:\u001b[0m\u001b[0;34m\u001b[0m\u001b[0m\n\u001b[1;32m   3743\u001b[0m                 raise ValueError('labels %s not contained in axis' %\n\u001b[0;32m-> 3744\u001b[0;31m                                  labels[mask])\n\u001b[0m\u001b[1;32m   3745\u001b[0m             \u001b[0mindexer\u001b[0m \u001b[0;34m=\u001b[0m \u001b[0mindexer\u001b[0m\u001b[0;34m[\u001b[0m\u001b[0;34m~\u001b[0m\u001b[0mmask\u001b[0m\u001b[0;34m]\u001b[0m\u001b[0;34m\u001b[0m\u001b[0m\n\u001b[1;32m   3746\u001b[0m         \u001b[0;32mreturn\u001b[0m \u001b[0mself\u001b[0m\u001b[0;34m.\u001b[0m\u001b[0mdelete\u001b[0m\u001b[0;34m(\u001b[0m\u001b[0mindexer\u001b[0m\u001b[0;34m)\u001b[0m\u001b[0;34m\u001b[0m\u001b[0m\n",
      "\u001b[0;31mValueError\u001b[0m: labels ['label'] not contained in axis"
     ]
    }
   ],
   "source": [
    "rcp_df.drop(['label'],axis=1,inplace=True)"
   ]
  },
  {
   "cell_type": "code",
   "execution_count": 59,
   "metadata": {},
   "outputs": [],
   "source": [
    "from sklearn.model_selection import train_test_split\n"
   ]
  },
  {
   "cell_type": "code",
   "execution_count": 60,
   "metadata": {
    "scrolled": true
   },
   "outputs": [],
   "source": [
    "#don_df.to_csv(\"don_data.csv\")\n",
    "#rcp_df.to_csv(\"rcp_data.csv\")\n",
    "#don_df.info()"
   ]
  },
  {
   "cell_type": "code",
   "execution_count": 61,
   "metadata": {},
   "outputs": [],
   "source": [
    "from sklearn.decomposition import PCA\n",
    "pcanumber = 10\n",
    "dn_clusters = 8\n",
    "rn_clusters = 8"
   ]
  },
  {
   "cell_type": "code",
   "execution_count": 62,
   "metadata": {},
   "outputs": [],
   "source": [
    "pca = PCA(n_components=pcanumber, copy=True, whiten=False)  #设置属性\n",
    "newData=pca.fit_transform(don_df)  #fit\n",
    "# pp = 0\n",
    "# for n in pca.explained_variance_ratio_:\n",
    "#     pp+=n\n",
    "# print pp"
   ]
  },
  {
   "cell_type": "code",
   "execution_count": 63,
   "metadata": {},
   "outputs": [],
   "source": [
    "DON_train, DON_test, y_train, y_test = train_test_split(\n",
    "     newData, y, test_size=0.2, random_state=42)"
   ]
  },
  {
   "cell_type": "code",
   "execution_count": 64,
   "metadata": {
    "scrolled": true
   },
   "outputs": [],
   "source": [
    "#pca.explained_variance_ratio_   #查看方差占比"
   ]
  },
  {
   "cell_type": "code",
   "execution_count": 65,
   "metadata": {},
   "outputs": [],
   "source": [
    "#pca.explained_variance_  #查看方差"
   ]
  },
  {
   "cell_type": "code",
   "execution_count": 66,
   "metadata": {},
   "outputs": [],
   "source": [
    "import matplotlib.colors  \n",
    "cm = matplotlib.colors.ListedColormap(['royalblue', 'cyan',\n",
    "                                  'yellow', 'orange', 'red', 'green', 'blue', 'm'])  \n",
    "initp = np.array([[-0.6,-0.4],[0.5,-0.4],[-0.6,0.4],[-0.6,0.7],[-0.6,1.0],[0.5,0.4],[0.5,0.7],[0.5,1.0]])\n",
    "from sklearn.cluster import KMeans  \n",
    "model=KMeans(n_clusters=dn_clusters,init='k-means++')  #init = 'k-means++'\n",
    "y_pre=model.fit_predict(newData)  "
   ]
  },
  {
   "cell_type": "code",
   "execution_count": 67,
   "metadata": {},
   "outputs": [
    {
     "data": {
      "text/plain": [
       "44055.44139281976"
      ]
     },
     "execution_count": 67,
     "metadata": {},
     "output_type": "execute_result"
    }
   ],
   "source": [
    "#pca3 = PCA(n_components=2, copy=True, whiten=False)  #设置属性\n",
    "#toshow=pca3.fit_transform(newData)\n",
    "model.inertia_"
   ]
  },
  {
   "cell_type": "code",
   "execution_count": null,
   "metadata": {},
   "outputs": [],
   "source": []
  },
  {
   "cell_type": "code",
   "execution_count": 68,
   "metadata": {},
   "outputs": [
    {
     "data": {
      "image/png": "[encoded data removed]",
      "text/plain": [
       "<matplotlib.figure.Figure at 0x112731810>"
      ]
     },
     "metadata": {},
     "output_type": "display_data"
    }
   ],
   "source": [
    "plt.scatter(newData[:,0],newData[:,1],c=y_pre,cmap=cm)  \n",
    "plt.title('K-Means for donators')  \n",
    "plt.grid()  \n",
    "plt.show()  "
   ]
  },
  {
   "cell_type": "code",
   "execution_count": null,
   "metadata": {},
   "outputs": [],
   "source": []
  },
  {
   "cell_type": "code",
   "execution_count": 69,
   "metadata": {},
   "outputs": [],
   "source": [
    "# from sklearn.cluster import FeatureAgglomeration\n",
    "# from sklearn.cluster import AgglomerativeClustering\n",
    "# #algo = FeatureAgglomeration()\n",
    "# agglo = AgglomerativeClustering(n_clusters=10)\n",
    "# y_pred =agglo.fit_predict(don_df)\n",
    "# print y_pred"
   ]
  },
  {
   "cell_type": "code",
   "execution_count": 70,
   "metadata": {},
   "outputs": [],
   "source": [
    "pca2 = PCA(n_components=pcanumber, copy=True, whiten=False)\n",
    "newData2=pca2.fit_transform(rcp_df)\n",
    "RCP_train, RCP_test, y2_train, y_test = train_test_split(\n",
    "     newData2, y, test_size=0.2, random_state=42)\n",
    "initp2 = np.array([[-0.7,-0.4],[-0.7,0.8],[0,-0.6],[0,1],[0.7,-0.4],[0.7,1]])\n",
    "model2=KMeans(n_clusters=rn_clusters,init='k-means++')  \n",
    "y_pre2=model2.fit_predict(newData2)  "
   ]
  },
  {
   "cell_type": "code",
   "execution_count": null,
   "metadata": {},
   "outputs": [],
   "source": []
  },
  {
   "cell_type": "code",
   "execution_count": 71,
   "metadata": {},
   "outputs": [
    {
     "data": {
      "text/plain": [
       "43373.45765245676"
      ]
     },
     "execution_count": 71,
     "metadata": {},
     "output_type": "execute_result"
    }
   ],
   "source": [
    "model2.inertia_"
   ]
  },
  {
   "cell_type": "code",
   "execution_count": 72,
   "metadata": {},
   "outputs": [
    {
     "data": {
      "image/png": "[encoded data removed]",
      "text/plain": [
       "<matplotlib.figure.Figure at 0x1126dbf10>"
      ]
     },
     "metadata": {},
     "output_type": "display_data"
    }
   ],
   "source": [
    "plt.scatter(newData2[:,0],newData2[:,1],c=y_pre2,cmap=cm)  \n",
    "plt.title(u'K-Means for recipients')  \n",
    "plt.grid()  \n",
    "plt.show()  "
   ]
  },
  {
   "cell_type": "code",
   "execution_count": 73,
   "metadata": {},
   "outputs": [
    {
     "name": "stdout",
     "output_type": "stream",
     "text": [
      "27293 27293 27293\n"
     ]
    }
   ],
   "source": [
    "print len(y_pre), len(y_pre2), len(normalized_df['label'])"
   ]
  },
  {
   "cell_type": "code",
   "execution_count": 74,
   "metadata": {},
   "outputs": [],
   "source": [
    "countdict = {}\n",
    "for k in range(len(y_pre)):\n",
    "    if (y_pre[k],y_pre2[k]) in countdict:\n",
    "        countdict[(y_pre[k],y_pre2[k])]+=1\n",
    "    else:\n",
    "        countdict[(y_pre[k],y_pre2[k])]=1"
   ]
  },
  {
   "cell_type": "code",
   "execution_count": 75,
   "metadata": {},
   "outputs": [],
   "source": [
    "#countdict"
   ]
  },
  {
   "cell_type": "code",
   "execution_count": 76,
   "metadata": {},
   "outputs": [],
   "source": [
    "resultdict = {}\n",
    "for k in range(len(y_pre)):\n",
    "    if (y_pre[k],y_pre2[k]) in resultdict:\n",
    "        resultdict[(y_pre[k],y_pre2[k])]+=normalized_df['label'][k]\n",
    "    else:\n",
    "        resultdict[(y_pre[k],y_pre2[k])]=1"
   ]
  },
  {
   "cell_type": "code",
   "execution_count": 77,
   "metadata": {},
   "outputs": [],
   "source": [
    "finaldict = {\n",
    "}"
   ]
  },
  {
   "cell_type": "code",
   "execution_count": 78,
   "metadata": {
    "scrolled": true
   },
   "outputs": [],
   "source": [
    "for k in resultdict:\n",
    "    finaldict[k] = 1-(resultdict[k]/float(countdict[k]))"
   ]
  },
  {
   "cell_type": "code",
   "execution_count": 79,
   "metadata": {
    "scrolled": false
   },
   "outputs": [],
   "source": [
    "#finaldict"
   ]
  },
  {
   "cell_type": "code",
   "execution_count": 80,
   "metadata": {},
   "outputs": [],
   "source": [
    "highp = {}\n",
    "for k in finaldict:\n",
    "    if k[0] in highp:\n",
    "        if finaldict[k] > highp[k[0]]:\n",
    "            highp[k[0]]=finaldict[k]\n",
    "    else:\n",
    "        highp[k[0]]=finaldict[k]"
   ]
  },
  {
   "cell_type": "code",
   "execution_count": 81,
   "metadata": {
    "scrolled": true
   },
   "outputs": [],
   "source": [
    "highcombinations = {}\n",
    "for k in finaldict:\n",
    "    if finaldict[k] == highp[k[0]]:\n",
    "        highcombinations[k] = highp[k[0]]"
   ]
  },
  {
   "cell_type": "code",
   "execution_count": 82,
   "metadata": {},
   "outputs": [
    {
     "data": {
      "text/plain": [
       "{(0, 4): 0.8427672955974843,\n",
       " (1, 2): 0.8428571428571429,\n",
       " (2, 5): 0.8602620087336245,\n",
       " (3, 6): 0.8192307692307692,\n",
       " (4, 6): 0.8390977443609022,\n",
       " (5, 0): 0.8455598455598455,\n",
       " (6, 3): 0.8530259365994236,\n",
       " (7, 3): 0.848030018761726}"
      ]
     },
     "execution_count": 82,
     "metadata": {},
     "output_type": "execute_result"
    }
   ],
   "source": [
    "highcombinations"
   ]
  },
  {
   "cell_type": "code",
   "execution_count": 83,
   "metadata": {},
   "outputs": [
    {
     "data": {
      "text/plain": [
       "0.8168394826512293"
      ]
     },
     "execution_count": 83,
     "metadata": {},
     "output_type": "execute_result"
    }
   ],
   "source": [
    "1-normalized_df['label'].mean() #This is baseline, lower than this-> bad match, higher than this-> good match"
   ]
  },
  {
   "cell_type": "code",
   "execution_count": 84,
   "metadata": {},
   "outputs": [],
   "source": [
    "#np.var(normalized_df['label']) #var"
   ]
  },
  {
   "cell_type": "code",
   "execution_count": 85,
   "metadata": {},
   "outputs": [],
   "source": [
    "don_con = {}\n",
    "for k in countdict:\n",
    "    if k[0] in don_con:\n",
    "        don_con[k[0]]+=countdict[k]\n",
    "    else:\n",
    "        don_con[k[0]]=countdict[k]"
   ]
  },
  {
   "cell_type": "code",
   "execution_count": 86,
   "metadata": {},
   "outputs": [],
   "source": [
    "#don_con"
   ]
  },
  {
   "cell_type": "code",
   "execution_count": 87,
   "metadata": {},
   "outputs": [],
   "source": [
    "don_result={}\n",
    "for k in resultdict:\n",
    "    if k[0] in don_result:\n",
    "        don_result[k[0]]+=resultdict[k]\n",
    "    else:\n",
    "        don_result[k[0]]=resultdict[k]"
   ]
  },
  {
   "cell_type": "code",
   "execution_count": 88,
   "metadata": {},
   "outputs": [],
   "source": [
    "#don_result"
   ]
  },
  {
   "cell_type": "code",
   "execution_count": 89,
   "metadata": {},
   "outputs": [],
   "source": [
    "don_final = {}\n",
    "for k in range(len(don_con)):\n",
    "    don_final[k] = 1-don_result[k] / float(don_con[k])"
   ]
  },
  {
   "cell_type": "code",
   "execution_count": 90,
   "metadata": {},
   "outputs": [
    {
     "data": {
      "text/plain": [
       "{0: 0.8176958032611601,\n",
       " 1: 0.8205445544554455,\n",
       " 2: 0.8213944603629417,\n",
       " 3: 0.8044889129259059,\n",
       " 4: 0.8145017793594306,\n",
       " 5: 0.8003240178209802,\n",
       " 6: 0.822987721691678,\n",
       " 7: 0.8188296264305766}"
      ]
     },
     "execution_count": 90,
     "metadata": {},
     "output_type": "execute_result"
    }
   ],
   "source": [
    "don_final"
   ]
  },
  {
   "cell_type": "code",
   "execution_count": 91,
   "metadata": {},
   "outputs": [],
   "source": [
    "# catlist = [don_df,rcp_df]\n",
    "# catresult = pd.concat(catlist,axis=1)\n",
    "# catresult\n",
    "# This is for concat on axis = 1"
   ]
  },
  {
   "cell_type": "code",
   "execution_count": 92,
   "metadata": {},
   "outputs": [],
   "source": [
    "# catlist2 = [don_df.loc[[1,2,3]],don_df.loc[[4,5]]]\n",
    "# catresult2 = pd.concat(catlist2)\n",
    "# catresult2\n",
    "# This is for concat on axis = 0"
   ]
  },
  {
   "cell_type": "code",
   "execution_count": 93,
   "metadata": {},
   "outputs": [],
   "source": [
    "# keymap = {}\n",
    "# for k in range(len(y_pre)):\n",
    "#     if (y_pre[k],y_pre2[k]) in keymap:\n",
    "#         keymap[(y_pre[k],y_pre2[k])].append(k)\n",
    "#     else:\n",
    "#         keymap[(y_pre[k],y_pre2[k])]=[k]\n"
   ]
  },
  {
   "cell_type": "code",
   "execution_count": null,
   "metadata": {},
   "outputs": [],
   "source": []
  },
  {
   "cell_type": "code",
   "execution_count": null,
   "metadata": {},
   "outputs": [],
   "source": []
  },
  {
   "cell_type": "code",
   "execution_count": 94,
   "metadata": {},
   "outputs": [],
   "source": [
    "# newx = {}\n",
    "# newy = {}\n",
    "# for k in keymap:\n",
    "#     concatlist = [don_df.loc[keymap[k]],rcp_df.loc[keymap[k]]]\n",
    "#     newy[k] = (y[keymap[k]])\n",
    "#     newx[k] = (pd.concat(concatlist,axis=1))"
   ]
  },
  {
   "cell_type": "code",
   "execution_count": null,
   "metadata": {},
   "outputs": [],
   "source": []
  },
  {
   "cell_type": "code",
   "execution_count": 95,
   "metadata": {},
   "outputs": [],
   "source": [
    "#for testy in newx:\n",
    "#    print len(newx[testy])"
   ]
  },
  {
   "cell_type": "code",
   "execution_count": null,
   "metadata": {},
   "outputs": [],
   "source": []
  },
  {
   "cell_type": "code",
   "execution_count": 96,
   "metadata": {},
   "outputs": [],
   "source": [
    "# groupscores = {}\n",
    "# ss=['precision_macro', 'recall_macro']\n",
    "# for k in newx:\n",
    "#     #lr=LogisticRegression()\n",
    "#     clf = SVC()\n",
    "#     groupscores[k] = (cross_validate(clf, newx[k], newy[k], scoring=ss, cv=5))"
   ]
  },
  {
   "cell_type": "code",
   "execution_count": 97,
   "metadata": {},
   "outputs": [],
   "source": [
    "#groupscores"
   ]
  },
  {
   "cell_type": "code",
   "execution_count": 98,
   "metadata": {},
   "outputs": [],
   "source": [
    "# prec_mean = []\n",
    "# for k in groupscores:\n",
    "#     prec_mean.append(groupscores[k]['test_precision_macro'].mean())\n",
    "# sumprec = 0\n",
    "# countprec = 0\n",
    "# for num in prec_mean:\n",
    "#     sumprec += num\n",
    "#     countprec += 1\n",
    "# print sumprec/float(countprec)"
   ]
  },
  {
   "cell_type": "code",
   "execution_count": 99,
   "metadata": {
    "scrolled": true
   },
   "outputs": [],
   "source": [
    "# recall_mean = []\n",
    "# for k in groupscores:\n",
    "#     recall_mean.append(groupscores[k]['test_recall_macro'].mean())\n",
    "# sumprec = 0\n",
    "# countprec = 0\n",
    "# for num in recall_mean:\n",
    "#     sumprec += num\n",
    "#     countprec += 1\n",
    "# print sumprec/float(countprec)"
   ]
  },
  {
   "cell_type": "code",
   "execution_count": 100,
   "metadata": {},
   "outputs": [
    {
     "data": {
      "text/plain": [
       "{(0, 4): 0.8427672955974843,\n",
       " (1, 2): 0.8428571428571429,\n",
       " (2, 5): 0.8602620087336245,\n",
       " (3, 6): 0.8192307692307692,\n",
       " (4, 6): 0.8390977443609022,\n",
       " (5, 0): 0.8455598455598455,\n",
       " (6, 3): 0.8530259365994236,\n",
       " (7, 3): 0.848030018761726}"
      ]
     },
     "execution_count": 100,
     "metadata": {},
     "output_type": "execute_result"
    }
   ],
   "source": [
    "highcombinations"
   ]
  },
  {
   "cell_type": "markdown",
   "metadata": {},
   "source": [
    "Before: 91.2%\n",
    "\n"
   ]
  },
  {
   "cell_type": "code",
   "execution_count": 101,
   "metadata": {},
   "outputs": [
    {
     "name": "stdout",
     "output_type": "stream",
     "text": [
      "0.8341013824884793\n"
     ]
    }
   ],
   "source": [
    "highcount = 0\n",
    "for k in range(len(y_pre))[2::5]:\n",
    "    if (y_pre[k],y_pre2[k]) in highcombinations:\n",
    "        #print (y_pre[k],y_pre2[k])\n",
    "        highcount += 1\n",
    "highresult = 0\n",
    "for k in range(len(y_pre))[2::5]:\n",
    "    if (y_pre[k],y_pre2[k]) in highcombinations:\n",
    "        highresult += normalized_df['label'][k]\n",
    "finalhigh = 1- highresult/float(highcount)\n",
    "print finalhigh"
   ]
  },
  {
   "cell_type": "code",
   "execution_count": 102,
   "metadata": {},
   "outputs": [
    {
     "name": "stdout",
     "output_type": "stream",
     "text": [
      "0.8236272878535773\n"
     ]
    }
   ],
   "source": [
    "lowcount = 0\n",
    "for k in range(len(y_pre))[2::5]:\n",
    "    if (y_pre[k],y_pre2[k]) not in highcombinations:\n",
    "        #print (y_pre[k],y_pre2[k])\n",
    "        lowcount += 1\n",
    "lowresult = 0\n",
    "for k in range(len(y_pre))[2::5]:\n",
    "    if (y_pre[k],y_pre2[k]) not in highcombinations:\n",
    "        lowresult += normalized_df['label'][k]\n",
    "finallow = 1- lowresult/float(lowcount)\n",
    "print finallow"
   ]
  },
  {
   "cell_type": "code",
   "execution_count": 103,
   "metadata": {},
   "outputs": [
    {
     "name": "stdout",
     "output_type": "stream",
     "text": [
      "0.824876350980033\n"
     ]
    }
   ],
   "source": [
    "regcount = 0\n",
    "for k in range(len(y_pre))[2::5]:\n",
    "    if (y_pre[k],y_pre2[k]): #not in highcombinations:\n",
    "        #print (y_pre[k],y_pre2[k])\n",
    "        regcount += 1\n",
    "regresult = 0\n",
    "for k in range(len(y_pre))[2::5]:\n",
    "    if (y_pre[k],y_pre2[k]): #not in highcombinations:\n",
    "        regresult += normalized_df['label'][k]\n",
    "finalreg = 1- regresult/float(regcount)\n",
    "print finalreg"
   ]
  },
  {
   "cell_type": "code",
   "execution_count": 104,
   "metadata": {},
   "outputs": [
    {
     "data": {
      "image/png": "[encoded data removed]",
      "text/plain": [
       "<matplotlib.figure.Figure at 0x112731c90>"
      ]
     },
     "metadata": {},
     "output_type": "display_data"
    }
   ],
   "source": [
    "failure=tmp[\"label\"].sum()\n",
    "success=len( tmp[\"label\"] ) -failure\n",
    "\n",
    "plt.figure(figsize=(6,9)) #调节图形大小\n",
    "labels = ['Failure','Not failure'] #定义标签\n",
    "sizes = [0.088, 0.912] #每块值\n",
    "colors = ['tab:orange','tab:blue'] #每块颜色定义\n",
    "explode = (0,0) #将某一块分割出来，值越大分割出的间隙越大\n",
    "patches,text1,text2 = plt.pie(sizes,\n",
    "                      explode=explode,\n",
    "                      labels=labels,\n",
    "                      colors=colors,\n",
    "                      autopct = '%3.2f%%', #数值保留固定小数位\n",
    "                      shadow = False, #无阴影设置\n",
    "                      startangle =90, #逆时针起始角度设置\n",
    "                      pctdistance =0.6) #数值距圆心半径倍数距离\n",
    "#patches饼图的返回值，texts1饼图外label的文本，texts2饼图内部的文本\n",
    "# x，y轴刻度设置一致，保证饼图为圆形\n",
    "plt.title(\"On 360th day\")\n",
    "plt.axis('equal')\n",
    "plt.show()"
   ]
  },
  {
   "attachments": {
    "image.png": {
     "image/png": "[encoded data removed]"
    }
   },
   "cell_type": "markdown",
   "metadata": {},
   "source": [
    "## Granularity\n",
    "Let's focus on granularity\n",
    "![image.png](attachment:image.png)\n",
    "### So ideally, we want around or more than 500 surgeries for each cluster-match!  \n",
    "> PCA, K-means, Hierarchical  \n",
    "> Can't have too many clusters then\n",
    ">   33000/500 = 66, that means a*b with 6<=a<=8 and 6<=b<=8\n",
    "\n",
    "### Also, we want K not too small"
   ]
  },
  {
   "cell_type": "markdown",
   "metadata": {},
   "source": [
    "<b>Dimensions</b>: 10, 20, 30  \n",
    "<b>K-Donator</b>: 6 - 8  \n",
    "<b>K-Recipient</b>: 6 - 8  "
   ]
  },
  {
   "cell_type": "code",
   "execution_count": null,
   "metadata": {},
   "outputs": [],
   "source": []
  },
  {
   "cell_type": "markdown",
   "metadata": {},
   "source": [
    "## Encapsulation for Test!"
   ]
  },
  {
   "cell_type": "code",
   "execution_count": 105,
   "metadata": {},
   "outputs": [],
   "source": [
    "def TestFunction(pca_number, don_clusters,rcp_clusters): \n",
    "    sum_finalhigh = 0\n",
    "    sum_bestmatch = 0\n",
    "    for x in range(10):\n",
    "        pcanumber = pca_number\n",
    "        dn_clusters = don_clusters\n",
    "        rn_clusters = rcp_clusters\n",
    "        pca = PCA(n_components=pcanumber, copy=True, whiten=False)  #设置属性\n",
    "        newData = pca.fit_transform(don_df)  #fit\n",
    "        DON_train, DON_test, y_train, y_test = train_test_split(\n",
    "             newData, y, test_size=0.2, random_state=42)\n",
    "        model = KMeans(n_clusters=dn_clusters,init='k-means++')  #init = 'k-means++'\n",
    "        y_pre = model.fit_predict(newData)  \n",
    "        \n",
    "        pca2 = PCA(n_components=pcanumber, copy=True, whiten=False)\n",
    "        newData2 = pca2.fit_transform(rcp_df)\n",
    "        RCP_train, RCP_test, y2_train, y_test = train_test_split(\n",
    "         newData2, y, test_size=0.2, random_state=42)\n",
    "        #initp2 = np.array([[-0.7,-0.4],[-0.7,0.8],[0,-0.6],[0,1],[0.7,-0.4],[0.7,1]])\n",
    "        model2 = KMeans(n_clusters=rn_clusters,init='k-means++')  \n",
    "        y_pre2 = model2.fit_predict(newData2) \n",
    "\n",
    "        countdict = {}\n",
    "        for k in range(len(y_pre)):\n",
    "            if (y_pre[k],y_pre2[k]) in countdict:\n",
    "                countdict[(y_pre[k],y_pre2[k])]+=1\n",
    "            else:\n",
    "                countdict[(y_pre[k],y_pre2[k])]=1\n",
    "        resultdict = {}\n",
    "        for k in range(len(y_pre)):\n",
    "            if (y_pre[k],y_pre2[k]) in resultdict:\n",
    "                resultdict[(y_pre[k],y_pre2[k])] += normalized_df['label'][k]\n",
    "            else:\n",
    "                resultdict[(y_pre[k],y_pre2[k])] = normalized_df['label'][k] \n",
    "        finaldict = {}\n",
    "        for k in resultdict:\n",
    "            finaldict[k] = 1-(resultdict[k]/float(countdict[k]))\n",
    "        highp = {}\n",
    "        for k in finaldict:\n",
    "            if k[0] in highp:\n",
    "                if finaldict[k] > highp[k[0]]:\n",
    "                    highp[k[0]]=finaldict[k]\n",
    "            else:\n",
    "                highp[k[0]]=finaldict[k]\n",
    "        highcombinations = {}\n",
    "        for k in finaldict:\n",
    "            if finaldict[k] == highp[k[0]]:\n",
    "                highcombinations[k] = highp[k[0]]\n",
    "        don_con = {}\n",
    "        for k in countdict:\n",
    "            if k[0] in don_con:\n",
    "                don_con[k[0]]+=countdict[k]\n",
    "            else:\n",
    "                don_con[k[0]]=countdict[k]\n",
    "        don_result={}\n",
    "        for k in resultdict:\n",
    "            if k[0] in don_result:\n",
    "                don_result[k[0]]+=resultdict[k]\n",
    "            else:\n",
    "                don_result[k[0]]=resultdict[k]\n",
    "        don_final = {}\n",
    "        for k in range(len(don_con)):\n",
    "            don_final[k] = 1-don_result[k] / float(don_con[k])\n",
    "        don_final\n",
    "        highcount = 0\n",
    "        highresult = 0\n",
    "        lowcount = 0\n",
    "        lowresult = 0\n",
    "        for k in range(len(y_pre)/5):\n",
    "            random_surgery = np.random.randint(0,len((y_pre)))\n",
    "            if (y_pre[random_surgery],y_pre2[random_surgery]) in highcombinations:\n",
    "                #print (y_pre[k],y_pre2[k])\n",
    "                highcount += 1\n",
    "                highresult += normalized_df['label'][random_surgery]\n",
    "            elif (y_pre[random_surgery],y_pre2[random_surgery]) not in highcombinations:\n",
    "                lowcount += 1\n",
    "                lowresult += normalized_df['label'][random_surgery]\n",
    "        finalhigh = 1- highresult/float(highcount)\n",
    "        finallow = 1- lowresult/float(lowcount)\n",
    "        sum_finalhigh += finalhigh\n",
    "        sum_bestmatch += highcombinations[max(highcombinations, key = highcombinations.get)]\n",
    "    print \"For Dimensions = \",pca_number,\"Donator Cluster# = \", don_clusters, \"Recipient Cluster# = \", rcp_clusters\n",
    "    print \"Not Failure Rate(NFR) for preferred match: \", sum_finalhigh/10.0\n",
    "    print \"Baseline: \",1-normalized_df['label'].mean() #This is baseline, lower than this-> bad match, higher than this-> good match\n",
    "    print \"NFR for best match: \",sum_bestmatch/10.0\n",
    "    print \"Number of match: \", len(resultdict)\n",
    "    print \"Min count for match: \",countdict[min(countdict, key=countdict.get)]"
   ]
  },
  {
   "cell_type": "code",
   "execution_count": 106,
   "metadata": {},
   "outputs": [],
   "source": [
    "# for n_pca in range(10,40,10):\n",
    "#     for n_don in range(6,9):\n",
    "#         for n_rcp in range(6,9):\n",
    "#             TestFunction(n_pca, n_don, n_rcp)"
   ]
  },
  {
   "cell_type": "markdown",
   "metadata": {},
   "source": [
    "n_pca = 10\n",
    "for n_don in range(9,11):\n",
    "    for n_rcp in range(9,11):\n",
    "        TestFunction(n_pca, n_don, n_rcp)"
   ]
  },
  {
   "cell_type": "code",
   "execution_count": 107,
   "metadata": {},
   "outputs": [
    {
     "name": "stdout",
     "output_type": "stream",
     "text": [
      "For Dimensions =  10 Donator Cluster# =  8 Recipient Cluster# =  8\n",
      "Not Failure Rate(NFR) for preferred match:  0.8416927887567816\n",
      "Baseline:  0.8168394826512293\n",
      "NFR for best match:  0.8627504999211743\n",
      "Number of match:  64\n",
      "Min count for match:  148\n"
     ]
    }
   ],
   "source": [
    "n_pca = 10\n",
    "n_don = 8\n",
    "n_rcp = 8\n",
    "TestFunction(n_pca, n_don, n_rcp)"
   ]
  },
  {
   "cell_type": "code",
   "execution_count": 108,
   "metadata": {},
   "outputs": [
    {
     "data": {
      "text/plain": [
       "{0: 0.8176958032611601,\n",
       " 1: 0.8205445544554455,\n",
       " 2: 0.8213944603629417,\n",
       " 3: 0.8044889129259059,\n",
       " 4: 0.8145017793594306,\n",
       " 5: 0.8003240178209802,\n",
       " 6: 0.822987721691678,\n",
       " 7: 0.8188296264305766}"
      ]
     },
     "execution_count": 108,
     "metadata": {},
     "output_type": "execute_result"
    }
   ],
   "source": [
    "don_final"
   ]
  },
  {
   "cell_type": "code",
   "execution_count": null,
   "metadata": {},
   "outputs": [],
   "source": []
  },
  {
   "cell_type": "code",
   "execution_count": 109,
   "metadata": {},
   "outputs": [
    {
     "data": {
      "text/plain": [
       "<module 'pandas' from '/Library/Python/2.7/site-packages/pandas/__init__.pyc'>"
      ]
     },
     "execution_count": 109,
     "metadata": {},
     "output_type": "execute_result"
    }
   ],
   "source": []
  },
  {
   "cell_type": "code",
   "execution_count": null,
   "metadata": {},
   "outputs": [],
   "source": []
  },
  {
   "cell_type": "code",
   "execution_count": null,
   "metadata": {},
   "outputs": [],
   "source": []
  },
  {
   "cell_type": "code",
   "execution_count": null,
   "metadata": {},
   "outputs": [],
   "source": []
  },
  {
   "cell_type": "code",
   "execution_count": null,
   "metadata": {},
   "outputs": [],
   "source": []
  },
  {
   "cell_type": "code",
   "execution_count": null,
   "metadata": {},
   "outputs": [],
   "source": []
  },
  {
   "cell_type": "code",
   "execution_count": null,
   "metadata": {},
   "outputs": [],
   "source": []
  },
  {
   "cell_type": "code",
   "execution_count": null,
   "metadata": {},
   "outputs": [],
   "source": []
  },
  {
   "cell_type": "code",
   "execution_count": null,
   "metadata": {},
   "outputs": [],
   "source": []
  },
  {
   "cell_type": "code",
   "execution_count": null,
   "metadata": {},
   "outputs": [],
   "source": []
  }
 ],
 "metadata": {
  "kernelspec": {
   "display_name": "Python 2",
   "language": "python",
   "name": "python2"
  },
  "language_info": {
   "codemirror_mode": {
    "name": "ipython",
    "version": 2
   },
   "file_extension": ".py",
   "mimetype": "text/x-python",
   "name": "python",
   "nbconvert_exporter": "python",
   "pygments_lexer": "ipython2",
   "version": "2.7.10"
  }
 },
 "nbformat": 4,
 "nbformat_minor": 2
}
