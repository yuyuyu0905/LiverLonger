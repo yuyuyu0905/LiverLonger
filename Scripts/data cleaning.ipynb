{
 "cells": [
  {
   "cell_type": "code",
   "execution_count": null,
   "metadata": {},
   "outputs": [],
   "source": []
  },
  {
   "cell_type": "code",
   "execution_count": 3,
   "metadata": {},
   "outputs": [],
   "source": [
    "import IPython.core.display as di\n",
    "import xgboost as xgb\n",
    "import numpy as np\n",
    "import pandas as pd\n",
    "import matplotlib.pyplot as plt\n",
    "# Ignore code when downloaded as HTML\n",
    "#di.display_html('<script>jQuery(function() {if (jQuery(\"body.notebook_app\").length == 0) { jQuery(\".input_area\").toggle(); jQuery(\".prompt\").toggle();}});</script>', raw=True)\n",
    "# Read file\n",
    "df = pd.read_csv('dataset/liver_data_inf560.csv',header = 0, na_values = 'NaN')"
   ]
  },
  {
   "cell_type": "markdown",
   "metadata": {},
   "source": [
    "dtypes: float64(60), int64(23), object(76)"
   ]
  },
  {
   "cell_type": "code",
   "execution_count": 4,
   "metadata": {},
   "outputs": [],
   "source": [
    "#Basic translation\n",
    "df = df.replace(\"Unknown\", np.nan) #Replace 'Unknown; with NaN for further processing\n",
    "df = df.replace(998, np.nan) #998 means Unknown\n",
    "df = df.replace(997, np.nan) #997 means N/A\n",
    "df = df.replace(996, np.nan) #996 means N/A not sure?"
   ]
  },
  {
   "cell_type": "code",
   "execution_count": 5,
   "metadata": {},
   "outputs": [],
   "source": [
    "#According to LIVER_FORMATC_LOOKUP\n",
    "column_name = 'FUNC_STAT_TRR'\n",
    "df.loc[df.FUNC_STAT_TRR == 1.0, column_name] = 10\n",
    "df.loc[df.FUNC_STAT_TRR == 2.0, column_name] = 5\n",
    "df.loc[df.FUNC_STAT_TRR == 3.0, column_name] = 1\n",
    "df.loc[df.FUNC_STAT_TRR == 2010, column_name] = 1\n",
    "df.loc[df.FUNC_STAT_TRR == 2020, column_name] = 2\n",
    "df.loc[df.FUNC_STAT_TRR == 2030, column_name] = 3\n",
    "df.loc[df.FUNC_STAT_TRR == 2040, column_name] = 4\n",
    "df.loc[df.FUNC_STAT_TRR == 2050, column_name] = 5\n",
    "df.loc[df.FUNC_STAT_TRR == 2060, column_name] = 6\n",
    "df.loc[df.FUNC_STAT_TRR == 2070, column_name] = 7\n",
    "df.loc[df.FUNC_STAT_TRR == 2080, column_name] = 8\n",
    "df.loc[df.FUNC_STAT_TRR == 2090, column_name] = 9\n",
    "df.loc[df.FUNC_STAT_TRR == 2100, column_name] = 10\n",
    "df.loc[df.FUNC_STAT_TRR == 4010, column_name] = 1\n",
    "df.loc[df.FUNC_STAT_TRR == 4020, column_name] = 2\n",
    "df.loc[df.FUNC_STAT_TRR == 4030, column_name] = 3\n",
    "df.loc[df.FUNC_STAT_TRR == 4040, column_name] = 4\n",
    "df.loc[df.FUNC_STAT_TRR == 4050, column_name] = 5\n",
    "df.loc[df.FUNC_STAT_TRR == 4060, column_name] = 6\n",
    "df.loc[df.FUNC_STAT_TRR == 4070, column_name] = 7\n",
    "df.loc[df.FUNC_STAT_TRR == 4080, column_name] = 8\n",
    "df.loc[df.FUNC_STAT_TRR == 4090, column_name] = 9\n",
    "df.loc[df.FUNC_STAT_TRR == 4100, column_name] = 10"
   ]
  },
  {
   "cell_type": "code",
   "execution_count": 6,
   "metadata": {},
   "outputs": [],
   "source": [
    "#numeralization\n",
    "df['AGE_GROUP'] = df['AGE_GROUP'].replace('A',1)\n",
    "df['AGE_GROUP'] = df['AGE_GROUP'].replace('P',0)\n",
    "#df[['AGE_GROUP']].head(5)"
   ]
  },
  {
   "cell_type": "code",
   "execution_count": 7,
   "metadata": {},
   "outputs": [],
   "source": [
    "#numeralization\n",
    "df =  df.replace('M', 0) #'M' means male\n",
    "df =  df.replace('F', 1) #'F' means female"
   ]
  },
  {
   "cell_type": "code",
   "execution_count": 8,
   "metadata": {},
   "outputs": [],
   "source": [
    "#df[df.END_STAT].between(6101, 6199, inclusive=True)\n",
    "#df[['END_STAT']].query('6101 <= END_STAT <= 6199') #negative meld score\n",
    "#df[df['END_STAT']==6999] #Inactive means Unknown, cuz the patients records not updated\n",
    "#df[['END_STAT']].query('6010 <= END_STAT <= 6012') Don't know what status1 status2 mean..\n",
    "# def END_STAT_CALCULATOR(x):\n",
    "#     if x>=6101 and x<=6200:\n",
    "#         return 6200-x\n",
    "#     elif x>=6201 and x<=6299:\n",
    "#         return x-6200\n",
    "#     elif x==6999:\n",
    "#         return np.nan"
   ]
  },
  {
   "cell_type": "code",
   "execution_count": 9,
   "metadata": {},
   "outputs": [],
   "source": [
    "#df['END_STAT'] = df.END_STAT.apply(END_STAT_CALCULATOR)"
   ]
  },
  {
   "cell_type": "code",
   "execution_count": 10,
   "metadata": {},
   "outputs": [],
   "source": [
    "#one hot encoding\n",
    "pd.get_dummies(df['ABO'],prefix='BLOOD_TYPE')\n",
    "df = pd.concat([df, pd.get_dummies(df['ABO'],prefix='BLOOD_TYPE')], axis=1)\n",
    "df.drop(['ABO'], axis=1, inplace=True)\n",
    "#df[['BLOOD_TYPE_A','BLOOD_TYPE_A1','BLOOD_TYPE_A2','BLOOD_TYPE_B','BLOOD_TYPE_O','BLOOD_TYPE_AB','BLOOD_TYPE_A1B','BLOOD_TYPE_A2B']].head(5)"
   ]
  },
  {
   "cell_type": "code",
   "execution_count": 11,
   "metadata": {},
   "outputs": [],
   "source": [
    "#one hot encoding\n",
    "pd.get_dummies(df['ABO_DON'],prefix='DON_BLOOD_TYPE')\n",
    "df = pd.concat([df, pd.get_dummies(df['ABO_DON'],prefix='DON_BLOOD_TYPE')], axis=1)\n",
    "df.drop(['ABO_DON'], axis=1, inplace=True)\n",
    "#df[['DON_BLOOD_TYPE_A','DON_BLOOD_TYPE_A1','DON_BLOOD_TYPE_A2','DON_BLOOD_TYPE_B','DON_BLOOD_TYPE_O','DON_BLOOD_TYPE_AB','DON_BLOOD_TYPE_A1B','DON_BLOOD_TYPE_A2B']].head(5)"
   ]
  },
  {
   "cell_type": "code",
   "execution_count": 12,
   "metadata": {},
   "outputs": [],
   "source": [
    "#one hot encoding\n",
    "df['ETHCAT'] = df['ETHCAT'].replace(1,'Others')\n",
    "df['ETHCAT'] = df['ETHCAT'].replace(2,'Black')\n",
    "df['ETHCAT'] = df['ETHCAT'].replace(4,'Hispanic')\n",
    "df['ETHCAT'] = df['ETHCAT'].replace(5,'Asian')\n",
    "df['ETHCAT'] = df['ETHCAT'].replace(6,'Others')\n",
    "df['ETHCAT'] = df['ETHCAT'].replace(7,'Others')\n",
    "df['ETHCAT'] = df['ETHCAT'].replace(9,'Multiracial')\n",
    "pd.get_dummies(df['ETHCAT'],prefix='ETHCAT')\n",
    "df = pd.concat([df, pd.get_dummies(df['ETHCAT'],prefix='ETHCAT')], axis=1)\n",
    "df.drop(['ETHCAT'], axis=1, inplace=True)"
   ]
  },
  {
   "cell_type": "code",
   "execution_count": 13,
   "metadata": {},
   "outputs": [],
   "source": [
    "#one hot encoding\n",
    "df['ETHCAT_DON'] = df['ETHCAT_DON'].replace(1,'Others')\n",
    "df['ETHCAT_DON'] = df['ETHCAT_DON'].replace(2,'Black')\n",
    "df['ETHCAT_DON'] = df['ETHCAT_DON'].replace(4,'Hispanic')\n",
    "df['ETHCAT_DON'] = df['ETHCAT_DON'].replace(5,'Asian')\n",
    "df['ETHCAT_DON'] = df['ETHCAT_DON'].replace(6,'Others')\n",
    "df['ETHCAT_DON'] = df['ETHCAT_DON'].replace(7,'Others')\n",
    "df['ETHCAT_DON'] = df['ETHCAT_DON'].replace(9,'Multiracial')\n",
    "pd.get_dummies(df['ETHCAT_DON'],prefix='ETHCAT_DON')\n",
    "df = pd.concat([df, pd.get_dummies(df['ETHCAT_DON'],prefix='ETHCAT_DON')], axis=1)\n",
    "df.drop(['ETHCAT_DON'], axis=1, inplace=True)"
   ]
  },
  {
   "cell_type": "code",
   "execution_count": 14,
   "metadata": {},
   "outputs": [],
   "source": [
    "#numeralization\n",
    "df.loc[df['DON_TY'] == 'C','DON_TY'] = 0  \n",
    "df.loc[df['DON_TY'] == 'L','DON_TY'] = 1 "
   ]
  },
  {
   "cell_type": "code",
   "execution_count": 15,
   "metadata": {},
   "outputs": [],
   "source": [
    "#numeralization\n",
    "def replaceEXC_HCC(hcc):\n",
    "    if hcc == 'non-HCC':\n",
    "        hcc = 1\n",
    "    elif hcc == \"HCC\":\n",
    "        hcc = 0\n",
    "    elif hcc == \"HBL\":\n",
    "        hcc = 1\n",
    "    return hcc\n",
    "df['EXC_HCC'] = df.EXC_HCC.apply(replaceEXC_HCC)"
   ]
  },
  {
   "cell_type": "code",
   "execution_count": 16,
   "metadata": {},
   "outputs": [],
   "source": [
    "#numeralization\n",
    "df =  df.replace('N', 0) #'N' means No\n",
    "df =  df.replace('No', 0) #'No' means No\n",
    "df =  df.replace('Y', 1) #'Y' means Yes\n",
    "df =  df.replace('Yes', 1) #'Yes' means Yes"
   ]
  },
  {
   "cell_type": "code",
   "execution_count": 17,
   "metadata": {},
   "outputs": [],
   "source": [
    "#DATA_TRANSPLANT,DATA_WAITLIST, LIST_MELD, TX_MELD have all the same values for one column\n",
    "df.drop(['DATA_TRANSPLANT'],axis=1,inplace=True) \n",
    "df.drop(['DATA_WAITLIST'],axis=1,inplace=True) \n",
    "df.drop(['LIST_MELD'],axis=1,inplace=True) \n",
    "df.drop(['TX_MELD'],axis=1,inplace=True) "
   ]
  },
  {
   "cell_type": "code",
   "execution_count": 18,
   "metadata": {},
   "outputs": [],
   "source": [
    "#numeralization\n",
    "df =  df.replace(['PD', 'ND', 'I', 'C', 'U'], np.nan) \n",
    "df =  df.replace('P', 1)"
   ]
  },
  {
   "cell_type": "code",
   "execution_count": 19,
   "metadata": {},
   "outputs": [],
   "source": [
    "#numeralization\n",
    "df['TXLIV'] =  df['TXLIV'].replace('W', 1)\n",
    "df['TXLIV'] =  df['TXLIV'].replace('S', 0)"
   ]
  },
  {
   "cell_type": "code",
   "execution_count": 20,
   "metadata": {},
   "outputs": [],
   "source": [
    "#numeralization\n",
    "df['PX_STAT'] =  df['PX_STAT'].replace(['R', 'D'], 0)\n",
    "df['PX_STAT'] =  df['PX_STAT'].replace('A', 1)\n",
    "df['PX_STAT'] =  df['PX_STAT'].replace('L', np.nan)"
   ]
  },
  {
   "cell_type": "code",
   "execution_count": 21,
   "metadata": {},
   "outputs": [],
   "source": [
    "#Highly relevant \n",
    "df.drop(['FINAL_MELD_OR_PELD'],axis=1,inplace=True)"
   ]
  },
  {
   "cell_type": "code",
   "execution_count": 22,
   "metadata": {},
   "outputs": [],
   "source": [
    "#No use\n",
    "df.drop(['ETHNICITY'],axis=1,inplace=True)"
   ]
  },
  {
   "cell_type": "code",
   "execution_count": 23,
   "metadata": {},
   "outputs": [],
   "source": [
    "#Already have distance, need no geo info\n",
    "df.drop(['HOME_STATE_DON'],axis=1,inplace=True) \n",
    "df.drop(['REGION'],axis=1,inplace=True) \n",
    "df.drop(['PERM_STATE'],axis=1,inplace=True) #axis=1 列操作， inplace=True 原数据中删除\n",
    "df.drop(['PERM_STATE_TRR'],axis=1,inplace=True)"
   ]
  },
  {
   "cell_type": "code",
   "execution_count": 24,
   "metadata": {},
   "outputs": [],
   "source": [
    "#Useless ID codes\n",
    "df.drop(['WL_ID_CODE'],axis=1,inplace=True)\n",
    "df.drop(['TRR_ID_CODE'],axis=1,inplace=True)\n",
    "df.drop(['DONOR_ID'],axis=1,inplace=True)\n",
    "df.drop(['CTR_CODE'],axis=1,inplace=True)\n",
    "df.drop(['OPO_CTR_CODE'],axis=1,inplace=True)\n",
    "df.drop(['LISTING_CTR_CODE'],axis=1,inplace=True)"
   ]
  },
  {
   "cell_type": "code",
   "execution_count": 25,
   "metadata": {},
   "outputs": [],
   "source": [
    "#For now\n",
    "df.drop(['DIAG'],axis = 1,inplace = True)"
   ]
  },
  {
   "cell_type": "code",
   "execution_count": 26,
   "metadata": {},
   "outputs": [],
   "source": [
    "#Too many missing values\n",
    "df.drop(['EBV_SEROSTATUS'],axis=1,inplace=True) #25.8%\n",
    "df.drop(['CMV_IGG'],axis=1,inplace=True) #20.9%\n",
    "df.drop(['CMV_IGM'],axis=1,inplace=True) #51.2%\n",
    "df.drop(['DEATH_CIRCUM_DON'],axis=1,inplace=True) #22.2%"
   ]
  },
  {
   "cell_type": "code",
   "execution_count": 27,
   "metadata": {},
   "outputs": [],
   "source": [
    "#Turn its type into int\n",
    "df= df[df['FINAL_DIALYSIS_PRIOR_WEEK']!=\"A\"]\n",
    "df['FINAL_DIALYSIS_PRIOR_WEEK'] = pd.to_numeric(df['FINAL_DIALYSIS_PRIOR_WEEK'])"
   ]
  },
  {
   "cell_type": "markdown",
   "metadata": {},
   "source": [
    "## Drop highly correlated attributes"
   ]
  },
  {
   "cell_type": "code",
   "execution_count": 28,
   "metadata": {},
   "outputs": [],
   "source": [
    "corrnew = df.corr(method='pearson', min_periods=1)"
   ]
  },
  {
   "cell_type": "code",
   "execution_count": 29,
   "metadata": {
    "scrolled": false
   },
   "outputs": [],
   "source": [
    "# for x in range(len(corrnew)):\n",
    "#     for y in range(len(corrnew)):\n",
    "#         if x!=y and x<y:\n",
    "#             if corrnew.iloc[x,y] >= 0.8 or corrnew.iloc[x,y] <= -0.8:\n",
    "#                 print corrnew.columns[x],corrnew.columns[y]"
   ]
  },
  {
   "cell_type": "markdown",
   "metadata": {},
   "source": [
    "<b>END_BMI_CALC</b>: WGT_KG_CALC, BMI_CALC  \n",
    "<b>FINAL_INR</b>: INR_TX  \n",
    "<b>FINAL_MELD_PELD_LAB_SCORE</b>: MELD_PELD_LAB_SCORE  \n",
    "<b>GSTATUS</b>: PX_STAT  \n",
    "<b>WGT_KG_DON_CALC</b>: BMI_DON_CALC  \n",
    "<b>AGE_GROUP</b>: AGE, HGT_CM_CALC  \n",
    "Drop highly related attributes"
   ]
  },
  {
   "cell_type": "code",
   "execution_count": 30,
   "metadata": {},
   "outputs": [],
   "source": [
    "df.drop(['WGT_KG_CALC'],axis=1,inplace=True)\n",
    "df.drop(['BMI_CALC'],axis=1,inplace=True)\n",
    "df.drop(['INR_TX'],axis=1,inplace=True)\n",
    "df.drop(['MELD_PELD_LAB_SCORE'],axis=1,inplace=True)\n",
    "df.drop(['PX_STAT'],axis=1,inplace=True)\n",
    "df.drop(['BMI_DON_CALC'],axis=1,inplace=True)\n",
    "df.drop(['AGE'],axis=1,inplace=True)\n",
    "df.drop(['HGT_CM_CALC'],axis=1,inplace=True)"
   ]
  },
  {
   "cell_type": "code",
   "execution_count": 31,
   "metadata": {},
   "outputs": [],
   "source": [
    "df.drop(['TX_YEAR'],axis=1,inplace=True) #Assume tech doesn't change according to year\n",
    "df.drop(['LISTYR'],axis=1,inplace=True)"
   ]
  },
  {
   "cell_type": "markdown",
   "metadata": {},
   "source": [
    "## Drop noise"
   ]
  },
  {
   "cell_type": "code",
   "execution_count": 36,
   "metadata": {},
   "outputs": [],
   "source": [
    "tmp= df.drop(df[df.PTIME < df.GTIME].index)"
   ]
  },
  {
   "cell_type": "code",
   "execution_count": 37,
   "metadata": {},
   "outputs": [
    {
     "data": {
      "text/plain": [
       "(42492, 150)"
      ]
     },
     "execution_count": 37,
     "metadata": {},
     "output_type": "execute_result"
    }
   ],
   "source": []
  },
  {
   "cell_type": "markdown",
   "metadata": {},
   "source": [
    "# drop PSTATUS & PTIME"
   ]
  },
  {
   "cell_type": "code",
   "execution_count": 30,
   "metadata": {},
   "outputs": [],
   "source": [
    "df.drop(['PSTATUS'],axis=1,inplace=True)\n",
    "df.drop(['PTIME'],axis=1,inplace=True)"
   ]
  },
  {
   "cell_type": "markdown",
   "metadata": {},
   "source": [
    "## Labeling"
   ]
  },
  {
   "cell_type": "code",
   "execution_count": 31,
   "metadata": {
    "scrolled": true
   },
   "outputs": [
    {
     "name": "stderr",
     "output_type": "stream",
     "text": [
      "e:\\anaconda\\envs\\default\\lib\\site-packages\\ipykernel_launcher.py:3: SettingWithCopyWarning: \n",
      "A value is trying to be set on a copy of a slice from a DataFrame.\n",
      "Try using .loc[row_indexer,col_indexer] = value instead\n",
      "\n",
      "See the caveats in the documentation: http://pandas.pydata.org/pandas-docs/stable/indexing.html#indexing-view-versus-copy\n",
      "  This is separate from the ipykernel package so we can avoid doing imports until\n"
     ]
    }
   ],
   "source": [
    "day=180\n",
    "tmp = df[(df.GTIME >= day) | (df.GSTATUS == 1) ] \n",
    "tmp[\"label\"]=tmp.apply(lambda x: x.GTIME<day, axis=1).astype(int)\n",
    "tmp = tmp.drop(columns=[\"GTIME\", \"GSTATUS\"])"
   ]
  },
  {
   "cell_type": "markdown",
   "metadata": {},
   "source": [
    "# hear we can draw a line chart"
   ]
  },
  {
   "cell_type": "code",
   "execution_count": 32,
   "metadata": {},
   "outputs": [],
   "source": [
    "from sklearn.preprocessing import Imputer\n",
    "impute=Imputer()\n",
    "result=impute.fit_transform(tmp)\n",
    "result=pd.DataFrame(result, columns=tmp.columns)\n",
    "#x=result.iloc[:, :-1]\n",
    "#y=result[\"label\"]"
   ]
  },
  {
   "cell_type": "markdown",
   "metadata": {},
   "source": [
    "# show class distribution"
   ]
  },
  {
   "cell_type": "code",
   "execution_count": 33,
   "metadata": {},
   "outputs": [
    {
     "data": {
      "image/png": "[encoded data removed]",
      "text/plain": [
       "<Figure size 432x648 with 1 Axes>"
      ]
     },
     "metadata": {},
     "output_type": "display_data"
    }
   ],
   "source": [
    "from matplotlib import pyplot as plt\n",
    "failure=tmp[\"label\"].sum()\n",
    "success=len( tmp[\"label\"] ) -failure\n",
    "\n",
    "plt.figure(figsize=(6,9)) #调节图形大小\n",
    "labels = ['failure','success'] #定义标签\n",
    "sizes = [failure, success] #每块值\n",
    "colors = ['tab:orange','tab:blue'] #每块颜色定义\n",
    "explode = (0,0) #将某一块分割出来，值越大分割出的间隙越大\n",
    "patches,text1,text2 = plt.pie(sizes,\n",
    "                      explode=explode,\n",
    "                      labels=labels,\n",
    "                      colors=colors,\n",
    "                      autopct = '%3.2f%%', #数值保留固定小数位\n",
    "                      shadow = False, #无阴影设置\n",
    "                      startangle =90, #逆时针起始角度设置\n",
    "                      pctdistance = 0.6) #数值距圆心半径倍数距离\n",
    "#patches饼图的返回值，texts1饼图外label的文本，texts2饼图内部的文本\n",
    "# x，y轴刻度设置一致，保证饼图为圆形\n",
    "plt.axis('equal')\n",
    "plt.show()"
   ]
  },
  {
   "cell_type": "markdown",
   "metadata": {},
   "source": [
    "## Normalization"
   ]
  },
  {
   "cell_type": "code",
   "execution_count": 34,
   "metadata": {},
   "outputs": [],
   "source": [
    "normalized_df=(result-result.min())/(result.max()-result.min())\n",
    "#result"
   ]
  },
  {
   "cell_type": "code",
   "execution_count": 35,
   "metadata": {},
   "outputs": [],
   "source": [
    "#normalized_df"
   ]
  },
  {
   "cell_type": "markdown",
   "metadata": {},
   "source": [
    "## Current Status"
   ]
  },
  {
   "cell_type": "code",
   "execution_count": 36,
   "metadata": {},
   "outputs": [],
   "source": [
    "#normalized_df.describe().T['mean']"
   ]
  },
  {
   "cell_type": "code",
   "execution_count": 37,
   "metadata": {},
   "outputs": [
    {
     "name": "stdout",
     "output_type": "stream",
     "text": [
      "<class 'pandas.core.frame.DataFrame'>\n",
      "RangeIndex: 74673 entries, 0 to 74672\n",
      "Columns: 147 entries, NUM_PREV_TX to label\n",
      "dtypes: float64(147)\n",
      "memory usage: 83.7 MB\n"
     ]
    }
   ],
   "source": [
    "normalized_df.info()"
   ]
  },
  {
   "cell_type": "code",
   "execution_count": 38,
   "metadata": {},
   "outputs": [],
   "source": [
    "#normalized_df.to_csv(\"cleaned_liver.csv\")"
   ]
  },
  {
   "cell_type": "markdown",
   "metadata": {},
   "source": [
    "# functions for model training\n",
    "## I used wrong metric(macro) before"
   ]
  },
  {
   "cell_type": "code",
   "execution_count": 151,
   "metadata": {},
   "outputs": [],
   "source": [
    "x=normalized_df.iloc[:, :-1]\n",
    "y=normalized_df[\"label\"]\n",
    "\n",
    "from sklearn.model_selection import cross_validate\n",
    "\n",
    "def getScore(model, x, y):\n",
    "    s=['f1', 'recall','precision', 'accuracy', 'roc_auc']\n",
    "    scores = cross_validate(model, x, y, scoring=s, cv=5)\n",
    "    result={}\n",
    "    for k,v in scores.items():\n",
    "        result[k]= sum(v)/len(v)\n",
    "    return result"
   ]
  },
  {
   "cell_type": "markdown",
   "metadata": {},
   "source": [
    "# Logistic Regression\n",
    "(0.4869024608691316, f1 score\n",
    " 0.5239925812604895, precision\n",
    " 0.5001216369841882, recall\n",
    " 0.9479731629346559) accuray"
   ]
  },
  {
   "cell_type": "code",
   "execution_count": 154,
   "metadata": {},
   "outputs": [
    {
     "name": "stderr",
     "output_type": "stream",
     "text": [
      "e:\\anaconda\\envs\\default\\lib\\site-packages\\sklearn\\metrics\\classification.py:1135: UndefinedMetricWarning: F-score is ill-defined and being set to 0.0 due to no predicted samples.\n",
      "  'precision', 'predicted', average, warn_for)\n",
      "e:\\anaconda\\envs\\default\\lib\\site-packages\\sklearn\\metrics\\classification.py:1135: UndefinedMetricWarning: Precision is ill-defined and being set to 0.0 due to no predicted samples.\n",
      "  'precision', 'predicted', average, warn_for)\n",
      "e:\\anaconda\\envs\\default\\lib\\site-packages\\sklearn\\metrics\\classification.py:1135: UndefinedMetricWarning: F-score is ill-defined and being set to 0.0 due to no predicted samples.\n",
      "  'precision', 'predicted', average, warn_for)\n",
      "e:\\anaconda\\envs\\default\\lib\\site-packages\\sklearn\\metrics\\classification.py:1135: UndefinedMetricWarning: Precision is ill-defined and being set to 0.0 due to no predicted samples.\n",
      "  'precision', 'predicted', average, warn_for)\n",
      "e:\\anaconda\\envs\\default\\lib\\site-packages\\sklearn\\metrics\\classification.py:1135: UndefinedMetricWarning: F-score is ill-defined and being set to 0.0 due to no predicted samples.\n",
      "  'precision', 'predicted', average, warn_for)\n",
      "e:\\anaconda\\envs\\default\\lib\\site-packages\\sklearn\\metrics\\classification.py:1135: UndefinedMetricWarning: Precision is ill-defined and being set to 0.0 due to no predicted samples.\n",
      "  'precision', 'predicted', average, warn_for)\n",
      "e:\\anaconda\\envs\\default\\lib\\site-packages\\sklearn\\metrics\\classification.py:1135: UndefinedMetricWarning: F-score is ill-defined and being set to 0.0 due to no predicted samples.\n",
      "  'precision', 'predicted', average, warn_for)\n",
      "e:\\anaconda\\envs\\default\\lib\\site-packages\\sklearn\\metrics\\classification.py:1135: UndefinedMetricWarning: Precision is ill-defined and being set to 0.0 due to no predicted samples.\n",
      "  'precision', 'predicted', average, warn_for)\n",
      "e:\\anaconda\\envs\\default\\lib\\site-packages\\sklearn\\metrics\\classification.py:1135: UndefinedMetricWarning: F-score is ill-defined and being set to 0.0 due to no predicted samples.\n",
      "  'precision', 'predicted', average, warn_for)\n",
      "e:\\anaconda\\envs\\default\\lib\\site-packages\\sklearn\\metrics\\classification.py:1135: UndefinedMetricWarning: Precision is ill-defined and being set to 0.0 due to no predicted samples.\n",
      "  'precision', 'predicted', average, warn_for)\n"
     ]
    },
    {
     "data": {
      "text/plain": [
       "{'fit_time': 2.4120811462402343,\n",
       " 'score_time': 0.03830313682556152,\n",
       " 'test_f1': 0.0005134788189987162,\n",
       " 'train_f1': 0.0005144281106043175,\n",
       " 'test_recall': 0.0002574002574002574,\n",
       " 'train_recall': 0.0002574002574002574,\n",
       " 'test_precision': 0.1,\n",
       " 'train_precision': 0.36666666666666664,\n",
       " 'test_accuracy': 0.9479731629346559,\n",
       " 'train_accuracy': 0.9479698150344135,\n",
       " 'test_roc_auc': 0.5682202583549718,\n",
       " 'train_roc_auc': 0.6063546847740389}"
      ]
     },
     "execution_count": 154,
     "metadata": {},
     "output_type": "execute_result"
    }
   ],
   "source": [
    "from sklearn.linear_model import LogisticRegression\n",
    "lr=LogisticRegression()\n",
    "getScore(lr, x, y)"
   ]
  },
  {
   "cell_type": "markdown",
   "metadata": {},
   "source": [
    "# SVM  use linear kernel instead due to speed"
   ]
  },
  {
   "cell_type": "code",
   "execution_count": 41,
   "metadata": {},
   "outputs": [],
   "source": [
    "# from sklearn import svm\n",
    "# svm1=svm.SVC(kernel=\"linear\")\n",
    "# getScore(svm1, x, y)"
   ]
  },
  {
   "cell_type": "markdown",
   "metadata": {},
   "source": [
    "# Decision Tree\n",
    "(0.5085088271992606,\n",
    " 0.5082232403159137,\n",
    " 0.5102716469826617,\n",
    " 0.8899603832131998)"
   ]
  },
  {
   "cell_type": "code",
   "execution_count": 153,
   "metadata": {},
   "outputs": [
    {
     "data": {
      "text/plain": [
       "{'fit_time': 5.04480209350586,\n",
       " 'score_time': 0.0800368309020996,\n",
       " 'test_f1': 0.07601695135618566,\n",
       " 'train_f1': 1.0,\n",
       " 'test_recall': 0.08725868725868727,\n",
       " 'train_recall': 1.0,\n",
       " 'test_precision': 0.0676168975115303,\n",
       " 'train_precision': 1.0,\n",
       " 'test_accuracy': 0.8900004819778614,\n",
       " 'train_accuracy': 1.0,\n",
       " 'test_roc_auc': 0.5106577064577038,\n",
       " 'train_roc_auc': 1.0}"
      ]
     },
     "execution_count": 153,
     "metadata": {},
     "output_type": "execute_result"
    }
   ],
   "source": [
    "from sklearn import tree\n",
    "dt=tree.DecisionTreeClassifier()\n",
    "getScore(dt, x, y)"
   ]
  },
  {
   "cell_type": "markdown",
   "metadata": {},
   "source": [
    "# k-NN"
   ]
  },
  {
   "cell_type": "code",
   "execution_count": 43,
   "metadata": {},
   "outputs": [],
   "source": [
    "# from sklearn.neighbors import KNeighborsClassifier\n",
    "# knn = KNeighborsClassifier(n_neighbors=5)\n",
    "# getScore(knn, x, y)"
   ]
  },
  {
   "cell_type": "markdown",
   "metadata": {},
   "source": [
    "# Random Forest\n",
    "(0.48660354986997795,\n",
    " 0.4739824000579354,\n",
    " 0.4999152412680261,\n",
    " 0.9478124647903965)"
   ]
  },
  {
   "cell_type": "code",
   "execution_count": 152,
   "metadata": {},
   "outputs": [
    {
     "name": "stderr",
     "output_type": "stream",
     "text": [
      "e:\\anaconda\\envs\\default\\lib\\site-packages\\sklearn\\metrics\\classification.py:1135: UndefinedMetricWarning: F-score is ill-defined and being set to 0.0 due to no predicted samples.\n",
      "  'precision', 'predicted', average, warn_for)\n",
      "e:\\anaconda\\envs\\default\\lib\\site-packages\\sklearn\\metrics\\classification.py:1135: UndefinedMetricWarning: Precision is ill-defined and being set to 0.0 due to no predicted samples.\n",
      "  'precision', 'predicted', average, warn_for)\n"
     ]
    },
    {
     "data": {
      "text/plain": [
       "{'fit_time': 2.36509690284729,\n",
       " 'score_time': 0.27440767288208007,\n",
       " 'test_f1': 0.0010269593303012328,\n",
       " 'train_f1': 0.8709381529596136,\n",
       " 'test_recall': 0.0005148005148005148,\n",
       " 'train_recall': 0.7714285714285716,\n",
       " 'test_precision': 0.26666666666666666,\n",
       " 'train_precision': 1.0,\n",
       " 'test_accuracy': 0.9478660302406811,\n",
       " 'train_accuracy': 0.9881081539049325,\n",
       " 'test_roc_auc': 0.5236187040396674,\n",
       " 'train_roc_auc': 0.9998882943032598}"
      ]
     },
     "execution_count": 152,
     "metadata": {},
     "output_type": "execute_result"
    }
   ],
   "source": [
    "from sklearn.ensemble import RandomForestClassifier\n",
    "rf=RandomForestClassifier()\n",
    "getScore(rf, x, y)"
   ]
  },
  {
   "cell_type": "markdown",
   "metadata": {},
   "source": [
    "# Random Forest Hyperparameter tuning"
   ]
  },
  {
   "cell_type": "code",
   "execution_count": 190,
   "metadata": {},
   "outputs": [
    {
     "data": {
      "text/plain": [
       "0.559003959173833"
      ]
     },
     "execution_count": 190,
     "metadata": {},
     "output_type": "execute_result"
    }
   ],
   "source": [
    "rf=RandomForestClassifier(n_estimators=100)\n",
    "rf.fit(x_train, y_train)\n",
    "y_pred=rf.predict_proba(x_test)\n",
    "y_pred=list( map(lambda x: x[1], y_pred))\n",
    "roc_auc_score(y_test, y_pred)"
   ]
  },
  {
   "cell_type": "markdown",
   "metadata": {},
   "source": [
    "# XGBoost (GBDT)"
   ]
  },
  {
   "cell_type": "code",
   "execution_count": 141,
   "metadata": {},
   "outputs": [
    {
     "data": {
      "text/plain": [
       "(0.05348460291734198, 0.02773109243697479, 0.036524626452684, None)"
      ]
     },
     "execution_count": 141,
     "metadata": {},
     "output_type": "execute_result"
    }
   ],
   "source": []
  },
  {
   "cell_type": "markdown",
   "metadata": {},
   "source": [
    "# Try under/over sampling (seems not working)"
   ]
  },
  {
   "cell_type": "code",
   "execution_count": 163,
   "metadata": {},
   "outputs": [],
   "source": [
    "# split train & test\n",
    "from sklearn.model_selection import train_test_split\n",
    "from sklearn.model_selection import StratifiedShuffleSplit\n",
    "# stratifiedSplit= StratifiedShuffleSplit(n_splits=1, test_size=0.3, random_state=1)\n",
    "\n",
    "# for train_index, test_index in stratifiedSplit.split(x,y):\n",
    "#     x_train, x_test=x.iloc[train_index], x.iloc[test_index]\n",
    "#     y_train, y_test=y.iloc[train_index], y.iloc[test_index]\n",
    "\n",
    "x_train, x_test, y_train, y_test=train_test_split(x, y, test_size=0.3, random_state=3)\n"
   ]
  },
  {
   "cell_type": "markdown",
   "metadata": {},
   "source": [
    "## Without oversampling"
   ]
  },
  {
   "cell_type": "code",
   "execution_count": 183,
   "metadata": {},
   "outputs": [
    {
     "data": {
      "text/plain": [
       "0.5337976633674846"
      ]
     },
     "execution_count": 183,
     "metadata": {},
     "output_type": "execute_result"
    }
   ],
   "source": [
    "rf=RandomForestClassifier()\n",
    "rf.fit(x_train, y_train)\n",
    "y_pred=rf.predict_proba(x_test)\n",
    "y_pred=list( map(lambda x: x[1], y_pred))\n",
    "roc_auc_score(y_test, y_pred)"
   ]
  },
  {
   "cell_type": "markdown",
   "metadata": {},
   "source": [
    "## Over-sampling the training_set (almost same)\n",
    "https://beckernick.github.io/oversampling-modeling/"
   ]
  },
  {
   "cell_type": "code",
   "execution_count": 185,
   "metadata": {},
   "outputs": [
    {
     "data": {
      "text/plain": [
       "0.5067880078500726"
      ]
     },
     "execution_count": 185,
     "metadata": {},
     "output_type": "execute_result"
    }
   ],
   "source": [
    "from imblearn.over_sampling import SMOTE\n",
    "x_resampled, y_resampled= SMOTE().fit_sample(x_train, y_train)\n",
    "\n",
    "from sklearn.ensemble import RandomForestClassifier\n",
    "rf=RandomForestClassifier()\n",
    "rf.fit(x_resampled, y_resampled)\n",
    "y_pred=rf.predict_proba(x_test)\n",
    "y_pred=list( map(lambda x: x[1], y_pred))\n",
    "roc_auc_score(y_test, y_pred)"
   ]
  },
  {
   "cell_type": "code",
   "execution_count": 168,
   "metadata": {},
   "outputs": [
    {
     "data": {
      "text/plain": [
       "0.4995294339089925"
      ]
     },
     "execution_count": 168,
     "metadata": {},
     "output_type": "execute_result"
    }
   ],
   "source": [
    "lr=LogisticRegression()\n",
    "rf.fit(x_resampled, y_resampled)`\n",
    "y_pred=rf.predict(x_test)\n",
    "\n",
    "roc_auc_score(y_test, y_pred)"
   ]
  },
  {
   "cell_type": "markdown",
   "metadata": {},
   "source": [
    "## Oversampling the whole dataset (wrong way)"
   ]
  },
  {
   "cell_type": "code",
   "execution_count": 98,
   "metadata": {},
   "outputs": [
    {
     "data": {
      "text/plain": [
       "0.9264263885030182"
      ]
     },
     "execution_count": 98,
     "metadata": {},
     "output_type": "execute_result"
    }
   ],
   "source": [
    "x_r, y_r= SMOTE().fit_sample(x_test, y_test)\n",
    "yyy=rf.predict(x_r)\n",
    "f1_score(y_r, yyy)"
   ]
  },
  {
   "cell_type": "markdown",
   "metadata": {},
   "source": [
    "# add weight to loss function"
   ]
  },
  {
   "cell_type": "code",
   "execution_count": 193,
   "metadata": {},
   "outputs": [
    {
     "data": {
      "text/plain": [
       "0.5318017027133511"
      ]
     },
     "execution_count": 193,
     "metadata": {},
     "output_type": "execute_result"
    }
   ],
   "source": [
    "from sklearn.ensemble import RandomForestClassifier\n",
    "rf=RandomForestClassifier(class_weight=\"balanced\", n_estimators=30)\n",
    "rf.fit(x_train, y_train)\n",
    "y_pred=rf.predict_proba(x_test)\n",
    "y_pred=list( map(lambda x: x[1], y_pred))\n",
    "roc_auc_score(y_test, y_pred)"
   ]
  },
  {
   "cell_type": "code",
   "execution_count": null,
   "metadata": {},
   "outputs": [],
   "source": []
  }
 ],
 "metadata": {
  "kernelspec": {
   "display_name": "default_python3",
   "language": "python",
   "name": "default_python3"
  },
  "language_info": {
   "codemirror_mode": {
    "name": "ipython",
    "version": 3
   },
   "file_extension": ".py",
   "mimetype": "text/x-python",
   "name": "python",
   "nbconvert_exporter": "python",
   "pygments_lexer": "ipython3",
   "version": "3.6.5"
  }
 },
 "nbformat": 4,
 "nbformat_minor": 2
}
